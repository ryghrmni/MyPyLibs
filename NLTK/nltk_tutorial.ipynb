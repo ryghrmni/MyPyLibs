{
  "nbformat": 4,
  "nbformat_minor": 0,
  "metadata": {
    "colab": {
      "provenance": [],
      "collapsed_sections": [
        "DAYoa2RvPJst",
        "hDxVzV1jU4nX"
      ],
      "include_colab_link": true
    },
    "kernelspec": {
      "name": "python3",
      "display_name": "Python 3"
    },
    "language_info": {
      "name": "python"
    }
  },
  "cells": [
    {
      "cell_type": "markdown",
      "metadata": {
        "id": "view-in-github",
        "colab_type": "text"
      },
      "source": [
        "<a href=\"https://colab.research.google.com/github/ryghrmni/MyPyLibs/blob/main/NLTK/nltk_tutorial.ipynb\" target=\"_parent\"><img src=\"https://colab.research.google.com/assets/colab-badge.svg\" alt=\"Open In Colab\"/></a>"
      ]
    },
    {
      "cell_type": "markdown",
      "source": [
        "# **What is NLTK?**\n",
        "NLTK (Natural Language Toolkit) is a powerful Python library for natural language processing (NLP). It provides easy-to-use interfaces to over 50 corpora and lexical resources such as WordNet, along with a suite of text processing libraries for tasks such as tokenization, stemming, tagging, parsing, and classification. It's widely used both in academia and industry for tasks ranging from simple text analysis to more complex natural language understanding and generation tasks.\n",
        "\n",
        "To install NLTK, you can use below command: \\\\\n",
        "```\n",
        "pip install nltk\n",
        "```\n",
        "---\n",
        "**How to install:** https://www.nltk.org/install.html\n",
        "\n",
        "**reference:** https://www.nltk.org/index.html"
      ],
      "metadata": {
        "id": "mx4OvzG570uO"
      }
    },
    {
      "cell_type": "code",
      "source": [
        "import nltk"
      ],
      "metadata": {
        "id": "IaD4FDX-WCfL"
      },
      "execution_count": 7,
      "outputs": []
    },
    {
      "cell_type": "markdown",
      "source": [
        "## **1. Prerequisite**\n",
        "In Natural Language Processing (NLP), strings and regular expressions (regex) play crucial roles in various tasks, especially when working with libraries like NLTK (Natural Language Toolkit).\n",
        "\n",
        "In this section, we will review strings and regular expressions.\n"
      ],
      "metadata": {
        "id": "DAYoa2RvPJst"
      }
    },
    {
      "cell_type": "markdown",
      "source": [
        "### **1.1. Strings**\n",
        "\n",
        "In Python, a string is a sequence of characters. It's one of the basic data types built into Python, and it's used to represent text. Strings in Python are immutable, meaning once they are created, their contents cannot be changed.\n",
        "\n",
        "You can create strings by enclosing text in either single quotes (''), double quotes (\"\") or triple quotes (''' or \"\"\"). For example:\n",
        "```\n",
        "first_sentence = 'Hello, World!'\n",
        "second_sentence = \"Python is awesome!\"\n",
        "multiline_string = '''\n",
        "This is a\n",
        "multiline\n",
        "string.\n",
        "'''\n",
        "```\n",
        "Strings support various operations and methods for manipulation and processing, such as concatenation, slicing, formatting, and searching. For example:\n",
        "```\n",
        "# Concatenation\n",
        "combined_string = first_sentence + ' ' + second_sentence\n",
        "\n",
        "# Slicing\n",
        "substring = first_sentence[7:]  # Output: 'World!'\n",
        "\n",
        "# Formatting\n",
        "name = 'Alice'\n",
        "greeting = f'Hello, {name}!'\n",
        "```\n",
        "Now, we want to delve deeply into the important features of strings in Python."
      ],
      "metadata": {
        "id": "xG7NHTP7by5F"
      }
    },
    {
      "cell_type": "markdown",
      "source": [
        "The sentence you see below has been selected from the [Yelp dataset](https://www.yelp.com/dataset). This dataset pertains to business data where user reviews for each business have been collected."
      ],
      "metadata": {
        "id": "v1D59pE-Lf0_"
      }
    },
    {
      "cell_type": "code",
      "source": [
        "text = \"I can only comment on the vermicelli bowls because I have never had the Pho. The vermicelli are a decent size and a fair price. Conveniently located if you live in the Alberta Ave neighbourhood, my orders have always been ready in 15 minutes - even on a Friday night.\""
      ],
      "metadata": {
        "id": "wwU4Y5hZSdO6"
      },
      "execution_count": null,
      "outputs": []
    },
    {
      "cell_type": "code",
      "source": [
        "text"
      ],
      "metadata": {
        "colab": {
          "base_uri": "https://localhost:8080/",
          "height": 53
        },
        "id": "033TunNyTAlU",
        "outputId": "0b4e502d-32ff-4454-93dd-9239c6163991"
      },
      "execution_count": null,
      "outputs": [
        {
          "output_type": "execute_result",
          "data": {
            "text/plain": [
              "'I can only comment on the vermicelli bowls because I have never had the Pho. The vermicelli are a decent size and a fair price. Conveniently located if you live in the Alberta Ave neighbourhood, my orders have always been ready in 15 minutes - even on a Friday night.'"
            ],
            "application/vnd.google.colaboratory.intrinsic+json": {
              "type": "string"
            }
          },
          "metadata": {},
          "execution_count": 3
        }
      ]
    },
    {
      "cell_type": "markdown",
      "source": [
        "**Slicing** \\\\\n",
        "Specify the start index and the end index, separated by a colon, to return a part of the string."
      ],
      "metadata": {
        "id": "kugkJn4GKoeL"
      }
    },
    {
      "cell_type": "code",
      "source": [
        "# The first character has index 0.\n",
        "text[0]"
      ],
      "metadata": {
        "colab": {
          "base_uri": "https://localhost:8080/",
          "height": 35
        },
        "id": "ZbTRSWOwTGTO",
        "outputId": "bc5f546c-86e8-4d67-9cbc-8e0f5b257df7"
      },
      "execution_count": null,
      "outputs": [
        {
          "output_type": "execute_result",
          "data": {
            "text/plain": [
              "'I'"
            ],
            "application/vnd.google.colaboratory.intrinsic+json": {
              "type": "string"
            }
          },
          "metadata": {},
          "execution_count": 4
        }
      ]
    },
    {
      "cell_type": "code",
      "source": [
        "# Get the characters from the start to position 10 (not included)\n",
        "text[:10]"
      ],
      "metadata": {
        "colab": {
          "base_uri": "https://localhost:8080/",
          "height": 35
        },
        "id": "l8_R0Y4pTI5K",
        "outputId": "5f0cef1f-cffe-43e9-a874-2a871cb30f00"
      },
      "execution_count": null,
      "outputs": [
        {
          "output_type": "execute_result",
          "data": {
            "text/plain": [
              "'I can only'"
            ],
            "application/vnd.google.colaboratory.intrinsic+json": {
              "type": "string"
            }
          },
          "metadata": {},
          "execution_count": 5
        }
      ]
    },
    {
      "cell_type": "code",
      "source": [
        "# Get the characters from position 10, and all the way to the end\n",
        "text[10:]"
      ],
      "metadata": {
        "colab": {
          "base_uri": "https://localhost:8080/",
          "height": 53
        },
        "id": "y5_WeiVRL79q",
        "outputId": "728c390d-5f72-405e-debb-69c6df8b1ba6"
      },
      "execution_count": null,
      "outputs": [
        {
          "output_type": "execute_result",
          "data": {
            "text/plain": [
              "' comment on the vermicelli bowls because I have never had the Pho. The vermicelli are a decent size and a fair price. Conveniently located if you live in the Alberta Ave neighbourhood, my orders have always been ready in 15 minutes - even on a Friday night.'"
            ],
            "application/vnd.google.colaboratory.intrinsic+json": {
              "type": "string"
            }
          },
          "metadata": {},
          "execution_count": 9
        }
      ]
    },
    {
      "cell_type": "code",
      "source": [
        "# Get the characters from position 3 to position 14 (not included).\n",
        "text[3:14]"
      ],
      "metadata": {
        "colab": {
          "base_uri": "https://localhost:8080/",
          "height": 35
        },
        "id": "G-omH0C7TVjB",
        "outputId": "efb22c63-981b-42f9-8889-e55b6ebafa04"
      },
      "execution_count": null,
      "outputs": [
        {
          "output_type": "execute_result",
          "data": {
            "text/plain": [
              "'an only com'"
            ],
            "application/vnd.google.colaboratory.intrinsic+json": {
              "type": "string"
            }
          },
          "metadata": {},
          "execution_count": 6
        }
      ]
    },
    {
      "cell_type": "markdown",
      "source": [
        "**Modification**\n"
      ],
      "metadata": {
        "id": "EwJmSjG_MUYG"
      }
    },
    {
      "cell_type": "code",
      "source": [
        "# The upper() method returns the string in upper case\n",
        "text.upper()"
      ],
      "metadata": {
        "colab": {
          "base_uri": "https://localhost:8080/",
          "height": 53
        },
        "id": "WTkRuvZrMbnx",
        "outputId": "e787c5ab-d903-45d9-c15d-9e6d18dc4dfa"
      },
      "execution_count": null,
      "outputs": [
        {
          "output_type": "execute_result",
          "data": {
            "text/plain": [
              "'I CAN ONLY COMMENT ON THE VERMICELLI BOWLS BECAUSE I HAVE NEVER HAD THE PHO. THE VERMICELLI ARE A DECENT SIZE AND A FAIR PRICE. CONVENIENTLY LOCATED IF YOU LIVE IN THE ALBERTA AVE NEIGHBOURHOOD, MY ORDERS HAVE ALWAYS BEEN READY IN 15 MINUTES - EVEN ON A FRIDAY NIGHT.'"
            ],
            "application/vnd.google.colaboratory.intrinsic+json": {
              "type": "string"
            }
          },
          "metadata": {},
          "execution_count": 10
        }
      ]
    },
    {
      "cell_type": "code",
      "source": [
        "# The lower() method returns the string in lower case\n",
        "text.lower()"
      ],
      "metadata": {
        "colab": {
          "base_uri": "https://localhost:8080/",
          "height": 53
        },
        "id": "Bbe4BPynMblv",
        "outputId": "061cf0f8-d552-48ec-95c7-c84c99d7ce5d"
      },
      "execution_count": null,
      "outputs": [
        {
          "output_type": "execute_result",
          "data": {
            "text/plain": [
              "'i can only comment on the vermicelli bowls because i have never had the pho. the vermicelli are a decent size and a fair price. conveniently located if you live in the alberta ave neighbourhood, my orders have always been ready in 15 minutes - even on a friday night.'"
            ],
            "application/vnd.google.colaboratory.intrinsic+json": {
              "type": "string"
            }
          },
          "metadata": {},
          "execution_count": 11
        }
      ]
    },
    {
      "cell_type": "code",
      "source": [
        "# The strip() method removes any whitespace from the beginning or the end\n",
        "text.strip()"
      ],
      "metadata": {
        "colab": {
          "base_uri": "https://localhost:8080/",
          "height": 53
        },
        "id": "PyfxfVC8MbjM",
        "outputId": "3441788c-e5fd-463c-824a-96c99aa9d096"
      },
      "execution_count": null,
      "outputs": [
        {
          "output_type": "execute_result",
          "data": {
            "text/plain": [
              "'I can only comment on the vermicelli bowls because I have never had the Pho. The vermicelli are a decent size and a fair price. Conveniently located if you live in the Alberta Ave neighbourhood, my orders have always been ready in 15 minutes - even on a Friday night.'"
            ],
            "application/vnd.google.colaboratory.intrinsic+json": {
              "type": "string"
            }
          },
          "metadata": {},
          "execution_count": 13
        }
      ]
    },
    {
      "cell_type": "code",
      "source": [
        "# The replace() method replaces a string with another string\n",
        "text.replace(\"o\", \"x\")"
      ],
      "metadata": {
        "colab": {
          "base_uri": "https://localhost:8080/",
          "height": 53
        },
        "id": "wL5fA0luMvYU",
        "outputId": "56b48120-df68-4896-d68e-9022d573235d"
      },
      "execution_count": null,
      "outputs": [
        {
          "output_type": "execute_result",
          "data": {
            "text/plain": [
              "'I can xnly cxmment xn the vermicelli bxwls because I have never had the Phx. The vermicelli are a decent size and a fair price. Cxnveniently lxcated if yxu live in the Alberta Ave neighbxurhxxd, my xrders have always been ready in 15 minutes - even xn a Friday night.'"
            ],
            "application/vnd.google.colaboratory.intrinsic+json": {
              "type": "string"
            }
          },
          "metadata": {},
          "execution_count": 14
        }
      ]
    },
    {
      "cell_type": "code",
      "source": [
        "# The split() method splits the string into substrings if it finds instances of the separator\n",
        "text.split(\".\")"
      ],
      "metadata": {
        "colab": {
          "base_uri": "https://localhost:8080/"
        },
        "id": "KPTU3J9zMvWH",
        "outputId": "50bbb8ee-7c58-440e-832d-2d79eb539259"
      },
      "execution_count": null,
      "outputs": [
        {
          "output_type": "execute_result",
          "data": {
            "text/plain": [
              "['I can only comment on the vermicelli bowls because I have never had the Pho',\n",
              " ' The vermicelli are a decent size and a fair price',\n",
              " ' Conveniently located if you live in the Alberta Ave neighbourhood, my orders have always been ready in 15 minutes - even on a Friday night',\n",
              " '']"
            ]
          },
          "metadata": {},
          "execution_count": 16
        }
      ]
    },
    {
      "cell_type": "markdown",
      "source": [
        "**Concatenation**\n",
        "\n",
        "\n",
        "```\n",
        "# Define two strings\n",
        "first_name = \"John\"\n",
        "last_name = \"Doe\"\n",
        "\n",
        "# Concatenate the strings\n",
        "full_name = first_name + \" \" + last_name\n",
        "\n",
        "# Print the result\n",
        "print(full_name)\n",
        "```\n",
        "\n"
      ],
      "metadata": {
        "id": "PF82TOoYNFJT"
      }
    },
    {
      "cell_type": "markdown",
      "source": [
        "**Other String Methods**"
      ],
      "metadata": {
        "id": "v5KVWvNzNcgP"
      }
    },
    {
      "cell_type": "code",
      "source": [
        "# The length of a string is the number of characters it contains, including spaces and special characters.\n",
        "len(text)"
      ],
      "metadata": {
        "colab": {
          "base_uri": "https://localhost:8080/"
        },
        "id": "4A4M5RBvTL8L",
        "outputId": "d6cc7fcc-2293-4779-8fe0-b8cca565f129"
      },
      "execution_count": null,
      "outputs": [
        {
          "output_type": "execute_result",
          "data": {
            "text/plain": [
              "267"
            ]
          },
          "metadata": {},
          "execution_count": 7
        }
      ]
    },
    {
      "cell_type": "code",
      "source": [
        "# # The find() method is used to search for a substring within a string. It returns the index of the first occurrence of the substring if it is found, and -1 if the substring is not found.\n",
        "query = text.find(\"comment\")\n",
        "query"
      ],
      "metadata": {
        "colab": {
          "base_uri": "https://localhost:8080/"
        },
        "id": "DtB-zp3QTqsN",
        "outputId": "dcbf0f63-032a-4151-e607-98d87ee627a4"
      },
      "execution_count": null,
      "outputs": [
        {
          "output_type": "execute_result",
          "data": {
            "text/plain": [
              "11"
            ]
          },
          "metadata": {},
          "execution_count": 9
        }
      ]
    },
    {
      "cell_type": "code",
      "source": [
        "query = text.find(\"o\")\n",
        "query"
      ],
      "metadata": {
        "colab": {
          "base_uri": "https://localhost:8080/"
        },
        "id": "H0iYDVQLT6Nz",
        "outputId": "8668fb3a-a12a-4a65-c0fc-62e6ec4237d0"
      },
      "execution_count": null,
      "outputs": [
        {
          "output_type": "execute_result",
          "data": {
            "text/plain": [
              "6"
            ]
          },
          "metadata": {},
          "execution_count": 10
        }
      ]
    },
    {
      "cell_type": "code",
      "source": [
        "query = text.find(\"o\", 10, 20)\n",
        "query"
      ],
      "metadata": {
        "colab": {
          "base_uri": "https://localhost:8080/"
        },
        "id": "Pds1c8tST971",
        "outputId": "767a18c4-4b7a-48bc-f3e7-3c43010f06a6"
      },
      "execution_count": null,
      "outputs": [
        {
          "output_type": "execute_result",
          "data": {
            "text/plain": [
              "12"
            ]
          },
          "metadata": {},
          "execution_count": 11
        }
      ]
    },
    {
      "cell_type": "code",
      "source": [
        "# The count() method is used to count the number of occurrences of a substring within a string. It returns the count of occurrences of the specified substring.\n",
        "query = text.count(\"have\")\n",
        "query"
      ],
      "metadata": {
        "colab": {
          "base_uri": "https://localhost:8080/"
        },
        "id": "JDmCBVSAUIM3",
        "outputId": "3b06d07e-675e-4ce5-fe43-86692af4eb8b"
      },
      "execution_count": null,
      "outputs": [
        {
          "output_type": "execute_result",
          "data": {
            "text/plain": [
              "2"
            ]
          },
          "metadata": {},
          "execution_count": 14
        }
      ]
    },
    {
      "cell_type": "code",
      "source": [
        "query = text.count(\"have\", 10,100)\n",
        "query"
      ],
      "metadata": {
        "colab": {
          "base_uri": "https://localhost:8080/"
        },
        "id": "tdNU_LAPUTwE",
        "outputId": "6d014bb7-f88a-4535-a88c-0978ab83e8bb"
      },
      "execution_count": null,
      "outputs": [
        {
          "output_type": "execute_result",
          "data": {
            "text/plain": [
              "1"
            ]
          },
          "metadata": {},
          "execution_count": 15
        }
      ]
    },
    {
      "cell_type": "code",
      "source": [
        "# Converts the first character to upper case\n",
        "text.capitalize()"
      ],
      "metadata": {
        "colab": {
          "base_uri": "https://localhost:8080/",
          "height": 53
        },
        "id": "vR3bY-16TUto",
        "outputId": "458063ab-b927-4765-9523-f3e6a553bde0"
      },
      "execution_count": null,
      "outputs": [
        {
          "output_type": "execute_result",
          "data": {
            "text/plain": [
              "'I can only comment on the vermicelli bowls because i have never had the pho. the vermicelli are a decent size and a fair price. conveniently located if you live in the alberta ave neighbourhood, my orders have always been ready in 15 minutes - even on a friday night.'"
            ],
            "application/vnd.google.colaboratory.intrinsic+json": {
              "type": "string"
            }
          },
          "metadata": {},
          "execution_count": 17
        }
      ]
    },
    {
      "cell_type": "code",
      "source": [
        "# The endswith() method returns True if the string ends with the specified value, otherwise False.\n",
        "print(text.endswith(\".\"))\n",
        "print(text.endswith(\".\", 5, 11))"
      ],
      "metadata": {
        "colab": {
          "base_uri": "https://localhost:8080/"
        },
        "id": "CYItcFXvTjW-",
        "outputId": "b8a83bb2-3163-4f6e-b396-e6733902a7c6"
      },
      "execution_count": null,
      "outputs": [
        {
          "output_type": "stream",
          "name": "stdout",
          "text": [
            "True\n",
            "False\n"
          ]
        }
      ]
    },
    {
      "cell_type": "code",
      "source": [
        "# The startswith() method returns True if the string starts with the specified value, otherwise False.\n",
        "print(text.startswith(\"I\"))\n",
        "print(text.startswith(\"I\", 5, 11))"
      ],
      "metadata": {
        "colab": {
          "base_uri": "https://localhost:8080/"
        },
        "id": "ldqJk2DtUXMT",
        "outputId": "191f3ba1-9bc5-4c3d-81c2-612587afe0cf"
      },
      "execution_count": null,
      "outputs": [
        {
          "output_type": "stream",
          "name": "stdout",
          "text": [
            "True\n",
            "False\n"
          ]
        }
      ]
    },
    {
      "cell_type": "code",
      "source": [
        "# it converts the first character of each word to upper case.\n",
        "text.title()"
      ],
      "metadata": {
        "colab": {
          "base_uri": "https://localhost:8080/",
          "height": 53
        },
        "id": "TkNgk0VMUjwW",
        "outputId": "185390a7-1752-48f3-ebf6-6a7ffbcf2820"
      },
      "execution_count": null,
      "outputs": [
        {
          "output_type": "execute_result",
          "data": {
            "text/plain": [
              "'I Can Only Comment On The Vermicelli Bowls Because I Have Never Had The Pho. The Vermicelli Are A Decent Size And A Fair Price. Conveniently Located If You Live In The Alberta Ave Neighbourhood, My Orders Have Always Been Ready In 15 Minutes - Even On A Friday Night.'"
            ],
            "application/vnd.google.colaboratory.intrinsic+json": {
              "type": "string"
            }
          },
          "metadata": {},
          "execution_count": 26
        }
      ]
    },
    {
      "cell_type": "markdown",
      "source": [
        "### **1.2. Regular Expressions (RegEx)**\n",
        "\n",
        "Regular Expression (Regex) is a sequence of characters that specifies a pattern in any given text (string).\n",
        "\n",
        "Regex can be used to search, extract, validate, or transform text based on specified patterns. This pattern can be as basic as searching for a comma (,) in a text or as complex as searching for a valid email address in a text.\n",
        "\n",
        "Regex comes in handy in Natural Language Processing (NLP), Web Scraping, Data Validation, Text Search and Manipulation, etc. Software Developers, Data Analysts, or Machine Learning Engineers need Regex at one point or the other. It’s almost inevitable.\n",
        "\n",
        "**reference:** https://medium.com/@victoriousjvictor/understanding-regular-expressions-regex-e1c048f5aa6c"
      ],
      "metadata": {
        "id": "7mJn27O8b-00"
      }
    },
    {
      "cell_type": "markdown",
      "source": [
        "Python has a built-in package called re, which can be used to work with Regular Expressions.\n",
        "Import the re module:\n",
        "\n",
        "\n",
        "```\n",
        "import re\n",
        "```\n",
        "\n",
        "**reference:** https://www.w3schools.com/python/python_regex.asp\n"
      ],
      "metadata": {
        "id": "5xb6qL8hfIF9"
      }
    },
    {
      "cell_type": "markdown",
      "source": [
        "**RegEx Functions:**\n",
        "\n",
        "\n",
        "*   findall: Returns a list containing all matches\n",
        "*   search: Returns a Match object if there is a match anywhere in the string\n",
        "*   split: Returns a list where the string has been split at each match\n",
        "*   sub: Replaces one or many matches with a string\n",
        "\n",
        "**Metacharacters:**\n",
        "\n",
        "\n",
        "*   [ ]: A set of characters (\"[a-m]\")\n",
        "*   \\: Signals a special sequence (\"\\d\")\n",
        "*   .: Any character (\"he..o\")\n",
        "*   ^: Starts with (\"^hello\")\n",
        "*   \\$:\tEnds with\t(\"planet$\")\n",
        "*   \\*:\tZero or more occurrences\t(\"he.*o\")\n",
        "*   +:\tOne or more occurrences\t(\"he.+o\")\n",
        "*   ?:\tZero or one occurrences\t(\"he.?o\")\n",
        "*   {}:\tExactly the specified number of occurrences\t(\"he.{2}o\")\n",
        "*   |:\tEither or\t(\"falls|stays\")\n",
        "\n",
        "**Special Sequences:**\n",
        "\n",
        "\n",
        "*   \\b:\tReturns a match where the specified characters are at the beginning or at the end of a word\n",
        "*   \\B:\tReturns a match where the specified characters are present, but NOT at the beginning (or at the end) of a word\n",
        "*   \\d:\tReturns a match where the string contains digits (numbers from 0-9)\n",
        "*   \\D:\tReturns a match where the string DOES NOT contain digits\n",
        "*   \\s:\tReturns a match where the string contains a white space character\n",
        "*   \\S:\tReturns a match where the string DOES NOT contain a white space character\n",
        "*   \\w:\tReturns a match where the string contains any word characters (characters from a to Z, digits from 0-9, and the underscore _ character)\n",
        "*   \\W:\tReturns a match where the string DOES NOT contain any word characters\n",
        "\n",
        "**Sets:**\n",
        "\n",
        "\n",
        "*   [arn]:\tReturns a match where one of the specified characters (a, r, or n) is present\n",
        "*   [a-n]:\tReturns a match for any lower case character, alphabetically between a and n\n",
        "*   [^arn]:\tReturns a match for any character EXCEPT a, r, and n\n",
        "*   [0123]:\tReturns a match where any of the specified digits (0, 1, 2, or 3) are present\n",
        "*   [0-9]:\tReturns a match for any digit between 0 and 9\n",
        "*   [0-5][0-9]:\tReturns a match for any two-digit numbers from 00 and 59\n",
        "*   [a-zA-Z]:\tReturns a match for any character alphabetically between a and z, lower case OR upper case\n",
        "*   [+]:\tIn sets, +, *, ., |, (), $,{} has no special meaning, so [+] means: return a match for any + character in the string\n",
        "\n",
        "**reference:** https://www.w3schools.com/python/python_regex.asp\n",
        "\n",
        "\n"
      ],
      "metadata": {
        "id": "GxmrXPB8uIfw"
      }
    },
    {
      "cell_type": "code",
      "source": [
        "import re"
      ],
      "metadata": {
        "id": "IE9g6d71nveO"
      },
      "execution_count": null,
      "outputs": []
    },
    {
      "cell_type": "code",
      "source": [
        "# 1. Matching specific words\n",
        "matches = re.findall(r'\\bvermicelli\\b', text)\n",
        "print(\"1. Matches for 'vermicelli':\", matches)"
      ],
      "metadata": {
        "id": "Z_lHI376cHw4",
        "colab": {
          "base_uri": "https://localhost:8080/"
        },
        "outputId": "b8d0b2a2-6c37-48f7-a0de-46fb7bdea467"
      },
      "execution_count": null,
      "outputs": [
        {
          "output_type": "stream",
          "name": "stdout",
          "text": [
            "1. Matches for 'vermicelli': ['vermicelli', 'vermicelli']\n"
          ]
        }
      ]
    },
    {
      "cell_type": "code",
      "source": [
        "# 2. Matching words with variations (case insensitive)\n",
        "matches = re.findall(r'\\bpho\\b', text, re.IGNORECASE)\n",
        "print(\"2. Matches for 'pho' (case insensitive):\", matches)"
      ],
      "metadata": {
        "id": "y325cWiecHuI",
        "colab": {
          "base_uri": "https://localhost:8080/"
        },
        "outputId": "8c24ce26-ebd1-4d02-d175-304c76298a5d"
      },
      "execution_count": null,
      "outputs": [
        {
          "output_type": "stream",
          "name": "stdout",
          "text": [
            "2. Matches for 'pho' (case insensitive): ['Pho']\n"
          ]
        }
      ]
    },
    {
      "cell_type": "code",
      "source": [
        "# 3. Matching words with wildcards\n",
        "matches = re.findall(r'\\b\\w+ly\\b', text)\n",
        "print(\"3. Adverbs ending with 'ly':\", matches)"
      ],
      "metadata": {
        "colab": {
          "base_uri": "https://localhost:8080/"
        },
        "id": "pDVTBUzcn3Jb",
        "outputId": "ae760216-97d2-4ff7-aee8-390da9d9b35a"
      },
      "execution_count": null,
      "outputs": [
        {
          "output_type": "stream",
          "name": "stdout",
          "text": [
            "3. Adverbs ending with 'ly': ['only', 'Conveniently']\n"
          ]
        }
      ]
    },
    {
      "cell_type": "code",
      "source": [
        "# 4. Matching words with specified character count\n",
        "matches = re.findall(r'\\b\\w{4}\\b', text)\n",
        "print(\"4. Words with 4 characters:\", matches)"
      ],
      "metadata": {
        "colab": {
          "base_uri": "https://localhost:8080/"
        },
        "id": "tMX3GQBGn6OO",
        "outputId": "462750f3-7e47-49fa-cb72-ee7e127be143"
      },
      "execution_count": null,
      "outputs": [
        {
          "output_type": "stream",
          "name": "stdout",
          "text": [
            "4. Words with 4 characters: ['only', 'have', 'size', 'fair', 'live', 'have', 'been', 'even']\n"
          ]
        }
      ]
    },
    {
      "cell_type": "code",
      "source": [
        "# 5. Matching words within a specified range of character count\n",
        "matches = re.findall(r'\\b\\w{3,5}\\b', text)\n",
        "print(\"5. Words with 3 to 5 characters:\", matches)"
      ],
      "metadata": {
        "colab": {
          "base_uri": "https://localhost:8080/"
        },
        "id": "PqWEt-Sbn86q",
        "outputId": "0b475604-0f62-4b55-ae49-e235393193b2"
      },
      "execution_count": null,
      "outputs": [
        {
          "output_type": "stream",
          "name": "stdout",
          "text": [
            "5. Words with 3 to 5 characters: ['can', 'only', 'the', 'bowls', 'have', 'never', 'had', 'the', 'Pho', 'The', 'are', 'size', 'and', 'fair', 'price', 'you', 'live', 'the', 'Ave', 'have', 'been', 'ready', 'even', 'night']\n"
          ]
        }
      ]
    },
    {
      "cell_type": "code",
      "source": [
        "# 6. Matching digits\n",
        "matches = re.findall(r'\\b\\d+\\b', text)\n",
        "print(\"6. Digits found:\", matches)"
      ],
      "metadata": {
        "colab": {
          "base_uri": "https://localhost:8080/"
        },
        "id": "D_R1oil1n-Nj",
        "outputId": "37a48b62-229a-40e1-a002-6d5b49316b59"
      },
      "execution_count": null,
      "outputs": [
        {
          "output_type": "stream",
          "name": "stdout",
          "text": [
            "6. Digits found: ['15']\n"
          ]
        }
      ]
    },
    {
      "cell_type": "code",
      "source": [
        "# 7. Matching specific patterns (e.g., numbers followed by 'minutes')\n",
        "matches = re.findall(r'\\b\\d+\\s*minutes\\b', text)\n",
        "print(\"7. Patterns matching 'digit + minutes':\", matches)"
      ],
      "metadata": {
        "colab": {
          "base_uri": "https://localhost:8080/"
        },
        "id": "Mb_ohs5Hn-8X",
        "outputId": "6f8e7acd-8b7b-4f3c-ffdf-161401fea044"
      },
      "execution_count": null,
      "outputs": [
        {
          "output_type": "stream",
          "name": "stdout",
          "text": [
            "7. Patterns matching 'digit + minutes': ['15 minutes']\n"
          ]
        }
      ]
    },
    {
      "cell_type": "code",
      "source": [
        "# 8. Matching with capture groups\n",
        "matches = re.findall(r'(\\w+ly)\\slocated', text)\n",
        "print(\"8. Adverbs before 'located':\", [match[0] for match in matches])"
      ],
      "metadata": {
        "colab": {
          "base_uri": "https://localhost:8080/"
        },
        "id": "8ERKHnpMoCSC",
        "outputId": "9bcb38a7-937f-4ef8-d1fa-c74e0e89eba0"
      },
      "execution_count": null,
      "outputs": [
        {
          "output_type": "stream",
          "name": "stdout",
          "text": [
            "8. Adverbs before 'located': ['C']\n"
          ]
        }
      ]
    },
    {
      "cell_type": "code",
      "source": [
        "# 9. Replacing matched patterns\n",
        "replaced_text = re.sub(r'\\bvermicelli\\b', 'noodles', text)\n",
        "print(\"9. Replaced 'vermicelli' with 'noodles':\", replaced_text)"
      ],
      "metadata": {
        "colab": {
          "base_uri": "https://localhost:8080/"
        },
        "id": "SCWyBikNoDhZ",
        "outputId": "7162c19b-8be9-48b6-fa36-0e5ccb6ed890"
      },
      "execution_count": null,
      "outputs": [
        {
          "output_type": "stream",
          "name": "stdout",
          "text": [
            "9. Replaced 'vermicelli' with 'noodles': I can only comment on the noodles bowls because I have never had the Pho. The noodles are a decent size and a fair price. Conveniently located if you live in the Alberta Ave neighbourhood, my orders have always been ready in 15 minutes - even on a Friday night.\n"
          ]
        }
      ]
    },
    {
      "cell_type": "markdown",
      "source": [
        "## **2. Tokenization**\n",
        "\n",
        "![tok.jpg](data:image/jpeg;base64,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)\n",
        "\n",
        "Tokenization is the process of breaking down a text document into smaller units called tokens. These tokens can be words, sentences, or other meaningful subunits depending on the context and requirements of the task. In Natural Language Processing (NLP), tokenization is often the first step in text processing and analysis.\n",
        "\n",
        "Tokenization is a fundamental step in many Natural Language Processing (NLP) tasks and is used in various scenarios:\n",
        "\n",
        "\n",
        "*   Text Preprocessing: Tokenization is often the first step in preprocessing text data for NLP tasks. By breaking down the text into smaller units such as words or sentences, tokenization facilitates further analysis and processing.\n",
        "*   Feature Extraction: In many NLP tasks, the tokens themselves serve as features for machine learning models. For example, in text classification tasks, each token (word) in a document may be represented as a feature, and tokenization is used to extract these features.\n",
        "*   Information Retrieval: In search engines and information retrieval systems, tokenization is used to index and retrieve documents based on user queries. By tokenizing both the documents and the query, these systems can match relevant documents to user queries more accurately.\n",
        "*   Named Entity Recognition: Tokenization plays a crucial role in named entity recognition (NER), where the goal is to identify and classify named entities (such as names of people, organizations, locations, etc.) within text. Tokenization helps in segmenting the text into meaningful units for NER algorithms to analyze.\n",
        "*   Sentiment Analysis: Tokenization is used in sentiment analysis tasks to analyze the sentiment expressed in text documents. By tokenizing the text into words or phrases, sentiment analysis algorithms can identify and analyze the sentiment associated with each token, enabling the classification of text into positive, negative, or neutral sentiment.\n",
        "\n",
        "For more information, read this [link](https://medium.com/@ajay_khanna/tokenization-techniques-in-natural-language-processing-67bb22088c75).\n",
        "\n",
        "**reference:** https://www.nltk.org/api/nltk.tokenize.html\n"
      ],
      "metadata": {
        "id": "hDxVzV1jU4nX"
      }
    },
    {
      "cell_type": "code",
      "source": [
        "\"\"\"\n",
        "The Punkt tokenizer is a pre-trained unsupervised machine learning model provided by NLTK for tokenization tasks.\n",
        "It is capable of tokenizing text into sentences and words based on the language's grammar rules and punctuation.\n",
        "This tokenizer is widely used and is the default tokenizer in NLTK for word and sentence tokenization.\n",
        "\"\"\"\n",
        "nltk.download('punkt')"
      ],
      "metadata": {
        "colab": {
          "base_uri": "https://localhost:8080/"
        },
        "id": "pLXmCspBV1yh",
        "outputId": "64140d40-8814-48b0-db9f-62971de3f4d6"
      },
      "execution_count": null,
      "outputs": [
        {
          "output_type": "stream",
          "name": "stderr",
          "text": [
            "[nltk_data] Downloading package punkt to /root/nltk_data...\n",
            "[nltk_data]   Package punkt is already up-to-date!\n"
          ]
        },
        {
          "output_type": "execute_result",
          "data": {
            "text/plain": [
              "True"
            ]
          },
          "metadata": {},
          "execution_count": 28
        }
      ]
    },
    {
      "cell_type": "code",
      "source": [
        "# After downloading, you can use NLTK's word_tokenize() and sent_tokenize() functions to tokenize text into words and sentences, respectively, using the Punkt tokenizer.\n",
        "from nltk.tokenize import sent_tokenize, word_tokenize"
      ],
      "metadata": {
        "id": "oJaYgXWbVQQU"
      },
      "execution_count": null,
      "outputs": []
    },
    {
      "cell_type": "code",
      "source": [
        "# The sent_tokenize(text) is a function provided by NLTK (Natural Language Toolkit) for tokenizing text into sentences.\n",
        "sent_tokenize(text)"
      ],
      "metadata": {
        "colab": {
          "base_uri": "https://localhost:8080/"
        },
        "id": "JstDiOaJVt3E",
        "outputId": "4f1719b7-8f4f-474d-b8fe-b8d38ec75fd6"
      },
      "execution_count": null,
      "outputs": [
        {
          "output_type": "execute_result",
          "data": {
            "text/plain": [
              "['I can only comment on the vermicelli bowls because I have never had the Pho.',\n",
              " 'The vermicelli are a decent size and a fair price.',\n",
              " 'Conveniently located if you live in the Alberta Ave neighbourhood, my orders have always been ready in 15 minutes - even on a Friday night.']"
            ]
          },
          "metadata": {},
          "execution_count": 31
        }
      ]
    },
    {
      "cell_type": "code",
      "source": [
        "# The word_tokenize(text) is a function provided by NLTK (Natural Language Toolkit) for tokenizing text into words or word-like units.\n",
        "word_tokenize(text)"
      ],
      "metadata": {
        "colab": {
          "base_uri": "https://localhost:8080/"
        },
        "id": "_Wd0ke71V6yn",
        "outputId": "df36c295-75c5-4b8c-92dc-c605ad896af8"
      },
      "execution_count": null,
      "outputs": [
        {
          "output_type": "execute_result",
          "data": {
            "text/plain": [
              "['I',\n",
              " 'can',\n",
              " 'only',\n",
              " 'comment',\n",
              " 'on',\n",
              " 'the',\n",
              " 'vermicelli',\n",
              " 'bowls',\n",
              " 'because',\n",
              " 'I',\n",
              " 'have',\n",
              " 'never',\n",
              " 'had',\n",
              " 'the',\n",
              " 'Pho',\n",
              " '.',\n",
              " 'The',\n",
              " 'vermicelli',\n",
              " 'are',\n",
              " 'a',\n",
              " 'decent',\n",
              " 'size',\n",
              " 'and',\n",
              " 'a',\n",
              " 'fair',\n",
              " 'price',\n",
              " '.',\n",
              " 'Conveniently',\n",
              " 'located',\n",
              " 'if',\n",
              " 'you',\n",
              " 'live',\n",
              " 'in',\n",
              " 'the',\n",
              " 'Alberta',\n",
              " 'Ave',\n",
              " 'neighbourhood',\n",
              " ',',\n",
              " 'my',\n",
              " 'orders',\n",
              " 'have',\n",
              " 'always',\n",
              " 'been',\n",
              " 'ready',\n",
              " 'in',\n",
              " '15',\n",
              " 'minutes',\n",
              " '-',\n",
              " 'even',\n",
              " 'on',\n",
              " 'a',\n",
              " 'Friday',\n",
              " 'night',\n",
              " '.']"
            ]
          },
          "metadata": {},
          "execution_count": 32
        }
      ]
    },
    {
      "cell_type": "code",
      "source": [
        "# The wordpunct_tokenize(text) function, provided by NLTK (Natural Language Toolkit), is another method for tokenizing text into words.\n",
        "from nltk.tokenize import wordpunct_tokenize\n",
        "wordpunct_tokenize(text)"
      ],
      "metadata": {
        "colab": {
          "base_uri": "https://localhost:8080/"
        },
        "id": "WTA23GKLZ9En",
        "outputId": "4152e813-78e4-45d4-f903-a8b65c06dc18"
      },
      "execution_count": null,
      "outputs": [
        {
          "output_type": "execute_result",
          "data": {
            "text/plain": [
              "['I',\n",
              " 'can',\n",
              " 'only',\n",
              " 'comment',\n",
              " 'on',\n",
              " 'the',\n",
              " 'vermicelli',\n",
              " 'bowls',\n",
              " 'because',\n",
              " 'I',\n",
              " 'have',\n",
              " 'never',\n",
              " 'had',\n",
              " 'the',\n",
              " 'Pho',\n",
              " '.',\n",
              " 'The',\n",
              " 'vermicelli',\n",
              " 'are',\n",
              " 'a',\n",
              " 'decent',\n",
              " 'size',\n",
              " 'and',\n",
              " 'a',\n",
              " 'fair',\n",
              " 'price',\n",
              " '.',\n",
              " 'Conveniently',\n",
              " 'located',\n",
              " 'if',\n",
              " 'you',\n",
              " 'live',\n",
              " 'in',\n",
              " 'the',\n",
              " 'Alberta',\n",
              " 'Ave',\n",
              " 'neighbourhood',\n",
              " ',',\n",
              " 'my',\n",
              " 'orders',\n",
              " 'have',\n",
              " 'always',\n",
              " 'been',\n",
              " 'ready',\n",
              " 'in',\n",
              " '15',\n",
              " 'minutes',\n",
              " '-',\n",
              " 'even',\n",
              " 'on',\n",
              " 'a',\n",
              " 'Friday',\n",
              " 'night',\n",
              " '.']"
            ]
          },
          "metadata": {},
          "execution_count": 33
        }
      ]
    },
    {
      "cell_type": "code",
      "source": [
        "# Tokenization Using Python’s split() function\n",
        "text.split()"
      ],
      "metadata": {
        "colab": {
          "base_uri": "https://localhost:8080/"
        },
        "id": "RRj4c4PawfCV",
        "outputId": "756c5517-a946-4b98-9677-8c40366bdd1e"
      },
      "execution_count": null,
      "outputs": [
        {
          "output_type": "execute_result",
          "data": {
            "text/plain": [
              "['I',\n",
              " 'can',\n",
              " 'only',\n",
              " 'comment',\n",
              " 'on',\n",
              " 'the',\n",
              " 'vermicelli',\n",
              " 'bowls',\n",
              " 'because',\n",
              " 'I',\n",
              " 'have',\n",
              " 'never',\n",
              " 'had',\n",
              " 'the',\n",
              " 'Pho.',\n",
              " 'The',\n",
              " 'vermicelli',\n",
              " 'are',\n",
              " 'a',\n",
              " 'decent',\n",
              " 'size',\n",
              " 'and',\n",
              " 'a',\n",
              " 'fair',\n",
              " 'price.',\n",
              " 'Conveniently',\n",
              " 'located',\n",
              " 'if',\n",
              " 'you',\n",
              " 'live',\n",
              " 'in',\n",
              " 'the',\n",
              " 'Alberta',\n",
              " 'Ave',\n",
              " 'neighbourhood,',\n",
              " 'my',\n",
              " 'orders',\n",
              " 'have',\n",
              " 'always',\n",
              " 'been',\n",
              " 'ready',\n",
              " 'in',\n",
              " '15',\n",
              " 'minutes',\n",
              " '-',\n",
              " 'even',\n",
              " 'on',\n",
              " 'a',\n",
              " 'Friday',\n",
              " 'night.']"
            ]
          },
          "metadata": {},
          "execution_count": 13
        }
      ]
    },
    {
      "cell_type": "code",
      "source": [
        "# Tokenization Using Regular Expressions (RegEx)\n",
        "tokens = re.findall(\"[\\w]+\", text)\n",
        "tokens"
      ],
      "metadata": {
        "colab": {
          "base_uri": "https://localhost:8080/"
        },
        "id": "odIgZDpIwmYc",
        "outputId": "c34f5798-4d36-4ef9-f359-143f56d15410"
      },
      "execution_count": null,
      "outputs": [
        {
          "output_type": "execute_result",
          "data": {
            "text/plain": [
              "['I',\n",
              " 'can',\n",
              " 'only',\n",
              " 'comment',\n",
              " 'on',\n",
              " 'the',\n",
              " 'vermicelli',\n",
              " 'bowls',\n",
              " 'because',\n",
              " 'I',\n",
              " 'have',\n",
              " 'never',\n",
              " 'had',\n",
              " 'the',\n",
              " 'Pho',\n",
              " 'The',\n",
              " 'vermicelli',\n",
              " 'are',\n",
              " 'a',\n",
              " 'decent',\n",
              " 'size',\n",
              " 'and',\n",
              " 'a',\n",
              " 'fair',\n",
              " 'price',\n",
              " 'Conveniently',\n",
              " 'located',\n",
              " 'if',\n",
              " 'you',\n",
              " 'live',\n",
              " 'in',\n",
              " 'the',\n",
              " 'Alberta',\n",
              " 'Ave',\n",
              " 'neighbourhood',\n",
              " 'my',\n",
              " 'orders',\n",
              " 'have',\n",
              " 'always',\n",
              " 'been',\n",
              " 'ready',\n",
              " 'in',\n",
              " '15',\n",
              " 'minutes',\n",
              " 'even',\n",
              " 'on',\n",
              " 'a',\n",
              " 'Friday',\n",
              " 'night']"
            ]
          },
          "metadata": {},
          "execution_count": 17
        }
      ]
    },
    {
      "cell_type": "code",
      "source": [
        "# Tokenization Using Keras\n",
        "from keras.preprocessing.text import text_to_word_sequence\n",
        "\n",
        "result = text_to_word_sequence(text)\n",
        "result"
      ],
      "metadata": {
        "colab": {
          "base_uri": "https://localhost:8080/"
        },
        "id": "xziYCOcQw2TE",
        "outputId": "65ed21c2-8986-404e-b540-985ad139c3ec"
      },
      "execution_count": null,
      "outputs": [
        {
          "output_type": "execute_result",
          "data": {
            "text/plain": [
              "['i',\n",
              " 'can',\n",
              " 'only',\n",
              " 'comment',\n",
              " 'on',\n",
              " 'the',\n",
              " 'vermicelli',\n",
              " 'bowls',\n",
              " 'because',\n",
              " 'i',\n",
              " 'have',\n",
              " 'never',\n",
              " 'had',\n",
              " 'the',\n",
              " 'pho',\n",
              " 'the',\n",
              " 'vermicelli',\n",
              " 'are',\n",
              " 'a',\n",
              " 'decent',\n",
              " 'size',\n",
              " 'and',\n",
              " 'a',\n",
              " 'fair',\n",
              " 'price',\n",
              " 'conveniently',\n",
              " 'located',\n",
              " 'if',\n",
              " 'you',\n",
              " 'live',\n",
              " 'in',\n",
              " 'the',\n",
              " 'alberta',\n",
              " 'ave',\n",
              " 'neighbourhood',\n",
              " 'my',\n",
              " 'orders',\n",
              " 'have',\n",
              " 'always',\n",
              " 'been',\n",
              " 'ready',\n",
              " 'in',\n",
              " '15',\n",
              " 'minutes',\n",
              " 'even',\n",
              " 'on',\n",
              " 'a',\n",
              " 'friday',\n",
              " 'night']"
            ]
          },
          "metadata": {},
          "execution_count": 18
        }
      ]
    },
    {
      "cell_type": "code",
      "source": [
        "# Tokenization Using Gensim\n",
        "from gensim.utils import tokenize\n",
        "\n",
        "list(tokenize(text))"
      ],
      "metadata": {
        "colab": {
          "base_uri": "https://localhost:8080/"
        },
        "id": "sra_nylAxDpv",
        "outputId": "d18464ec-b885-4827-e7c7-5416c54e0ef1"
      },
      "execution_count": null,
      "outputs": [
        {
          "output_type": "execute_result",
          "data": {
            "text/plain": [
              "['I',\n",
              " 'can',\n",
              " 'only',\n",
              " 'comment',\n",
              " 'on',\n",
              " 'the',\n",
              " 'vermicelli',\n",
              " 'bowls',\n",
              " 'because',\n",
              " 'I',\n",
              " 'have',\n",
              " 'never',\n",
              " 'had',\n",
              " 'the',\n",
              " 'Pho',\n",
              " 'The',\n",
              " 'vermicelli',\n",
              " 'are',\n",
              " 'a',\n",
              " 'decent',\n",
              " 'size',\n",
              " 'and',\n",
              " 'a',\n",
              " 'fair',\n",
              " 'price',\n",
              " 'Conveniently',\n",
              " 'located',\n",
              " 'if',\n",
              " 'you',\n",
              " 'live',\n",
              " 'in',\n",
              " 'the',\n",
              " 'Alberta',\n",
              " 'Ave',\n",
              " 'neighbourhood',\n",
              " 'my',\n",
              " 'orders',\n",
              " 'have',\n",
              " 'always',\n",
              " 'been',\n",
              " 'ready',\n",
              " 'in',\n",
              " 'minutes',\n",
              " 'even',\n",
              " 'on',\n",
              " 'a',\n",
              " 'Friday',\n",
              " 'night']"
            ]
          },
          "metadata": {},
          "execution_count": 19
        }
      ]
    },
    {
      "cell_type": "code",
      "source": [
        "# Tokenization Using PunktSentenceTokenizer\n",
        "from nltk.tokenize import PunktSentenceTokenizer\n",
        "nltk.download('state_union')\n",
        "from nltk.corpus import state_union\n",
        "train_text = state_union.raw(\"2005-GWBush.txt\")\n",
        "custom_sent_tokenizer = PunktSentenceTokenizer(train_text)\n",
        "tokenized = custom_sent_tokenizer.tokenize(text)\n",
        "tokenized"
      ],
      "metadata": {
        "colab": {
          "base_uri": "https://localhost:8080/"
        },
        "id": "gRsbVipcxPR5",
        "outputId": "4a553fba-db37-4177-b28e-aaa0492e4239"
      },
      "execution_count": null,
      "outputs": [
        {
          "output_type": "stream",
          "name": "stderr",
          "text": [
            "[nltk_data] Downloading package state_union to /root/nltk_data...\n",
            "[nltk_data]   Package state_union is already up-to-date!\n"
          ]
        },
        {
          "output_type": "execute_result",
          "data": {
            "text/plain": [
              "['I can only comment on the vermicelli bowls because I have never had the Pho.',\n",
              " 'The vermicelli are a decent size and a fair price.',\n",
              " 'Conveniently located if you live in the Alberta Ave neighbourhood, my orders have always been ready in 15 minutes - even on a Friday night.']"
            ]
          },
          "metadata": {},
          "execution_count": 23
        }
      ]
    },
    {
      "cell_type": "code",
      "source": [
        "# RegexpTokenizer\n",
        "from nltk.tokenize import RegexpTokenizer\n",
        "\n",
        "tokenizer = RegexpTokenizer(r'\\w+')\n",
        "tokens = tokenizer.tokenize(text)\n",
        "print(\"Regexp Tokenization:\", tokens)"
      ],
      "metadata": {
        "colab": {
          "base_uri": "https://localhost:8080/"
        },
        "id": "cCET5e4jy6jD",
        "outputId": "1192f120-1fd7-4868-d73a-1d7c21e8539e"
      },
      "execution_count": null,
      "outputs": [
        {
          "output_type": "stream",
          "name": "stdout",
          "text": [
            "Regexp Tokenization: ['I', 'can', 'only', 'comment', 'on', 'the', 'vermicelli', 'bowls', 'because', 'I', 'have', 'never', 'had', 'the', 'Pho', 'The', 'vermicelli', 'are', 'a', 'decent', 'size', 'and', 'a', 'fair', 'price', 'Conveniently', 'located', 'if', 'you', 'live', 'in', 'the', 'Alberta', 'Ave', 'neighbourhood', 'my', 'orders', 'have', 'always', 'been', 'ready', 'in', '15', 'minutes', 'even', 'on', 'a', 'Friday', 'night']\n"
          ]
        }
      ]
    },
    {
      "cell_type": "markdown",
      "source": [
        "## **3. Stemming and Lematization**"
      ],
      "metadata": {
        "id": "lAqAHuewrQ69"
      }
    },
    {
      "cell_type": "markdown",
      "source": [
        "**Stemming** involves removing suffixes or prefixes from words to obtain the base or root form. The result may not always be a valid word, but it helps in reducing variations of words to a common base.\n",
        "\n",
        "Example: For the word \"running,\" the stem would be \"run.\" Similarly, for \"cats,\" the stem would be \"cat.\""
      ],
      "metadata": {
        "id": "AcG-pElywSu8"
      }
    },
    {
      "cell_type": "code",
      "source": [
        "import nltk\n",
        "from nltk.stem import PorterStemmer\n",
        "nltk.download(\"punkt\")\n",
        "\n",
        "# Initialize Python porter stemmer\n",
        "ps = PorterStemmer()\n",
        "\n",
        "# Example inflections to reduce\n",
        "example_words = [\"program\",\"programming\",\"programer\",\"programs\",\"programmed\"]\n",
        "\n",
        "# Perform stemming\n",
        "print(\"{0:20}{1:20}\".format(\"--Word--\",\"--Stem--\"))\n",
        "for word in example_words:\n",
        "   print (\"{0:20}{1:20}\".format(word, ps.stem(word)))\n"
      ],
      "metadata": {
        "colab": {
          "base_uri": "https://localhost:8080/"
        },
        "id": "XM3uz6TorVrm",
        "outputId": "95015daa-45a1-4194-a7b7-2d01b3f2c61e"
      },
      "execution_count": null,
      "outputs": [
        {
          "output_type": "stream",
          "name": "stderr",
          "text": [
            "[nltk_data] Downloading package punkt to /root/nltk_data...\n",
            "[nltk_data]   Unzipping tokenizers/punkt.zip.\n"
          ]
        },
        {
          "output_type": "stream",
          "name": "stdout",
          "text": [
            "--Word--            --Stem--            \n",
            "program             program             \n",
            "programming         program             \n",
            "programer           program             \n",
            "programs            program             \n",
            "programmed          program             \n"
          ]
        }
      ]
    },
    {
      "cell_type": "markdown",
      "source": [
        "**Lemmatization**, on the other hand, is a more sophisticated process where words are reduced to their canonical form based on their meaning, known as the lemma. Unlike stemming, lemmatization ensures that the resulting word is a valid word in the language. It typically involves dictionary lookup and morphological analysis to produce the correct lemma.\n",
        "\n",
        "Example: For the word \"running,\" the lemma would also be \"run.\" For \"cats,\" the lemma remains \"cat.\""
      ],
      "metadata": {
        "id": "DcInykhewYh6"
      }
    },
    {
      "cell_type": "code",
      "source": [
        "from nltk.stem import WordNetLemmatizer\n",
        "nltk.download(\"wordnet\")\n",
        "nltk.download(\"omw-1.4\")\n",
        "\n",
        "# Initialize wordnet lemmatizer\n",
        "wnl = WordNetLemmatizer()\n",
        "\n",
        "# Example inflections to reduce\n",
        "example_words = [\"program\",\"programming\",\"programer\",\"programs\",\"programmed\"]\n",
        "\n",
        "# Perform lemmatization\n",
        "print(\"{0:20}{1:20}\".format(\"--Word--\",\"--Lemma--\"))\n",
        "for word in example_words:\n",
        "   print (\"{0:20}{1:20}\".format(word, wnl.lemmatize(word, pos=\"v\")))"
      ],
      "metadata": {
        "colab": {
          "base_uri": "https://localhost:8080/"
        },
        "id": "jN8zEc6lw4CZ",
        "outputId": "c85cf900-1a91-44ac-a20d-fa8707dcd758"
      },
      "execution_count": null,
      "outputs": [
        {
          "output_type": "stream",
          "name": "stderr",
          "text": [
            "[nltk_data] Downloading package wordnet to /root/nltk_data...\n",
            "[nltk_data] Downloading package omw-1.4 to /root/nltk_data...\n"
          ]
        },
        {
          "output_type": "stream",
          "name": "stdout",
          "text": [
            "--Word--            --Lemma--           \n",
            "program             program             \n",
            "programming         program             \n",
            "programer           programer           \n",
            "programs            program             \n",
            "programmed          program             \n"
          ]
        }
      ]
    },
    {
      "cell_type": "markdown",
      "source": [
        "## **4. Wordnet**\n",
        "\n",
        "WordNet is a large lexical database of English. Nouns, verbs, adjectives and adverbs are grouped into sets of cognitive synonyms (synsets), each expressing a distinct concept. Synsets are interlinked by means of conceptual-semantic and lexical relations.\n",
        "\n",
        "![image.png](data:image/png;base64,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)\n",
        "\n",
        "**reference:** https://wordnet.princeton.edu/"
      ],
      "metadata": {
        "id": "ECpDub9wXIXn"
      }
    },
    {
      "cell_type": "code",
      "source": [
        "from nltk.corpus import wordnet"
      ],
      "metadata": {
        "id": "coNCP700XJ2N"
      },
      "execution_count": 8,
      "outputs": []
    },
    {
      "cell_type": "code",
      "source": [
        "nltk.download('wordnet')"
      ],
      "metadata": {
        "colab": {
          "base_uri": "https://localhost:8080/"
        },
        "id": "1hd8muEoYRXx",
        "outputId": "9438fcc7-426f-4175-e33a-23794d9dce61"
      },
      "execution_count": 9,
      "outputs": [
        {
          "output_type": "stream",
          "name": "stderr",
          "text": [
            "[nltk_data] Downloading package wordnet to /root/nltk_data...\n"
          ]
        },
        {
          "output_type": "execute_result",
          "data": {
            "text/plain": [
              "True"
            ]
          },
          "metadata": {},
          "execution_count": 9
        }
      ]
    },
    {
      "cell_type": "markdown",
      "source": [
        "Here are some **important features** of WordNet:\n",
        "1. Name\n",
        "2. Definition\n",
        "3. Lemmas\n",
        "4. POS (Part-of-Speech): It refers to the grammatical category of a word in a sentence, indicating its syntactic role and relationships with other words.\n",
        "5. Hypernyms and Hyponyms:\n",
        "\n",
        "  a. A hypernym is a word with a broader meaning that encompasses more specific instances or subordinate concepts. For example: In the hierarchy \"animal\" is a hypernym of \"dog\" and \"cat\" because \"dog\" and \"cat\" are specific types of animals.\n",
        "\n",
        "  b. A hyponym is a word that has a narrower meaning and is included within the semantic scope of a broader category or hypernym. For example: In the hierarchy \"dog\" and \"cat\" are hyponyms of \"animal\" because they are specific types of animals.\n",
        "6. Antonyms\n",
        "7. Similarity"
      ],
      "metadata": {
        "id": "jCQhlWS2b1_Q"
      }
    },
    {
      "cell_type": "markdown",
      "source": [
        "**a. Synset Retrieval:** Retrieve synsets for a given word."
      ],
      "metadata": {
        "id": "QAwFDby4ZPCY"
      }
    },
    {
      "cell_type": "code",
      "source": [
        "word = \"book\""
      ],
      "metadata": {
        "id": "zu-P2QQ4Y11t"
      },
      "execution_count": 10,
      "outputs": []
    },
    {
      "cell_type": "code",
      "source": [
        "# Get synsets for the word\n",
        "synsets = wordnet.synsets(word)"
      ],
      "metadata": {
        "id": "ITmExferY6N9"
      },
      "execution_count": 11,
      "outputs": []
    },
    {
      "cell_type": "code",
      "source": [
        "# Print the synsets along with their definitions\n",
        "print(\"Synsets for word:\", word)\n",
        "for synset in synsets:\n",
        "    print(\"Synset:\", synset.name())\n",
        "    print(\"Definition:\", synset.definition())\n",
        "    print(\"Lemmas: \", synset.lemmas())\n",
        "    print(\"Part-of-Speech: \", synset.pos())\n",
        "    print()"
      ],
      "metadata": {
        "colab": {
          "base_uri": "https://localhost:8080/"
        },
        "id": "IDPaNAobY7O6",
        "outputId": "2deb59dd-f16c-4d57-8483-9718aabaf0dc"
      },
      "execution_count": 24,
      "outputs": [
        {
          "output_type": "stream",
          "name": "stdout",
          "text": [
            "Synsets for word: bad\n",
            "Synset: book.n.01\n",
            "Definition: a written work or composition that has been published (printed on pages bound together)\n",
            "Lemmas:  [Lemma('book.n.01.book')]\n",
            "Part-of-Speech:  n\n",
            "\n",
            "Synset: book.n.02\n",
            "Definition: physical objects consisting of a number of pages bound together\n",
            "Lemmas:  [Lemma('book.n.02.book'), Lemma('book.n.02.volume')]\n",
            "Part-of-Speech:  n\n",
            "\n",
            "Synset: record.n.05\n",
            "Definition: a compilation of the known facts regarding something or someone\n",
            "Lemmas:  [Lemma('record.n.05.record'), Lemma('record.n.05.record_book'), Lemma('record.n.05.book')]\n",
            "Part-of-Speech:  n\n",
            "\n",
            "Synset: script.n.01\n",
            "Definition: a written version of a play or other dramatic composition; used in preparing for a performance\n",
            "Lemmas:  [Lemma('script.n.01.script'), Lemma('script.n.01.book'), Lemma('script.n.01.playscript')]\n",
            "Part-of-Speech:  n\n",
            "\n",
            "Synset: ledger.n.01\n",
            "Definition: a record in which commercial accounts are recorded\n",
            "Lemmas:  [Lemma('ledger.n.01.ledger'), Lemma('ledger.n.01.leger'), Lemma('ledger.n.01.account_book'), Lemma('ledger.n.01.book_of_account'), Lemma('ledger.n.01.book')]\n",
            "Part-of-Speech:  n\n",
            "\n",
            "Synset: book.n.06\n",
            "Definition: a collection of playing cards satisfying the rules of a card game\n",
            "Lemmas:  [Lemma('book.n.06.book')]\n",
            "Part-of-Speech:  n\n",
            "\n",
            "Synset: book.n.07\n",
            "Definition: a collection of rules or prescribed standards on the basis of which decisions are made\n",
            "Lemmas:  [Lemma('book.n.07.book'), Lemma('book.n.07.rule_book')]\n",
            "Part-of-Speech:  n\n",
            "\n",
            "Synset: koran.n.01\n",
            "Definition: the sacred writings of Islam revealed by God to the prophet Muhammad during his life at Mecca and Medina\n",
            "Lemmas:  [Lemma('koran.n.01.Koran'), Lemma('koran.n.01.Quran'), Lemma('koran.n.01.al-Qur'an'), Lemma('koran.n.01.Book')]\n",
            "Part-of-Speech:  n\n",
            "\n",
            "Synset: bible.n.01\n",
            "Definition: the sacred writings of the Christian religions\n",
            "Lemmas:  [Lemma('bible.n.01.Bible'), Lemma('bible.n.01.Christian_Bible'), Lemma('bible.n.01.Book'), Lemma('bible.n.01.Good_Book'), Lemma('bible.n.01.Holy_Scripture'), Lemma('bible.n.01.Holy_Writ'), Lemma('bible.n.01.Scripture'), Lemma('bible.n.01.Word_of_God'), Lemma('bible.n.01.Word')]\n",
            "Part-of-Speech:  n\n",
            "\n",
            "Synset: book.n.10\n",
            "Definition: a major division of a long written composition\n",
            "Lemmas:  [Lemma('book.n.10.book')]\n",
            "Part-of-Speech:  n\n",
            "\n",
            "Synset: book.n.11\n",
            "Definition: a number of sheets (ticket or stamps etc.) bound together on one edge\n",
            "Lemmas:  [Lemma('book.n.11.book')]\n",
            "Part-of-Speech:  n\n",
            "\n",
            "Synset: book.v.01\n",
            "Definition: engage for a performance\n",
            "Lemmas:  [Lemma('book.v.01.book')]\n",
            "Part-of-Speech:  v\n",
            "\n",
            "Synset: reserve.v.04\n",
            "Definition: arrange for and reserve (something for someone else) in advance\n",
            "Lemmas:  [Lemma('reserve.v.04.reserve'), Lemma('reserve.v.04.hold'), Lemma('reserve.v.04.book')]\n",
            "Part-of-Speech:  v\n",
            "\n",
            "Synset: book.v.03\n",
            "Definition: record a charge in a police register\n",
            "Lemmas:  [Lemma('book.v.03.book')]\n",
            "Part-of-Speech:  v\n",
            "\n",
            "Synset: book.v.04\n",
            "Definition: register in a hotel booker\n",
            "Lemmas:  [Lemma('book.v.04.book')]\n",
            "Part-of-Speech:  v\n",
            "\n"
          ]
        }
      ]
    },
    {
      "cell_type": "markdown",
      "source": [
        "**b. Hypernyms and Hyponyms:** Retrieve hypernyms (more general terms) and hyponyms (more specific terms) for a synset."
      ],
      "metadata": {
        "id": "gniV9uf1ZYyW"
      }
    },
    {
      "cell_type": "code",
      "source": [
        "synset = wordnet.synset('book.n.01')\n",
        "hypernyms = synset.hypernyms()\n",
        "print(\"Hypernyms of synset:\", synset.name())\n",
        "for hypernym in hypernyms:\n",
        "    print(\"Hypernym:\", hypernym.name())\n",
        "    print(\"Definition:\", hypernym.definition())"
      ],
      "metadata": {
        "colab": {
          "base_uri": "https://localhost:8080/"
        },
        "id": "ToZ2ikLpZiVM",
        "outputId": "8834fdc7-6d67-465c-98bc-6b03ae788f74"
      },
      "execution_count": 14,
      "outputs": [
        {
          "output_type": "stream",
          "name": "stdout",
          "text": [
            "Hypernyms of synset: book.n.01\n",
            "Hypernym: publication.n.01\n",
            "Definition: a copy of a printed work offered for distribution\n"
          ]
        }
      ]
    },
    {
      "cell_type": "code",
      "source": [
        "synset = wordnet.synset('car.n.01')\n",
        "hypernyms = synset.hypernyms()\n",
        "print(\"Hypernyms of synset:\", synset.name())\n",
        "for hypernym in hypernyms:\n",
        "    print(\"Hypernym:\", hypernym.name())\n",
        "    print(\"Definition:\", hypernym.definition())"
      ],
      "metadata": {
        "colab": {
          "base_uri": "https://localhost:8080/"
        },
        "id": "G-RLNg_1Y_5S",
        "outputId": "fc0e6c72-62b9-4390-e7c0-f69b1ea19c9a"
      },
      "execution_count": 13,
      "outputs": [
        {
          "output_type": "stream",
          "name": "stdout",
          "text": [
            "Hypernyms of synset: car.n.01\n",
            "Hypernym: motor_vehicle.n.01\n",
            "Definition: a self-propelled wheeled vehicle that does not run on rails\n"
          ]
        }
      ]
    },
    {
      "cell_type": "markdown",
      "source": [
        "**c. Antonyms:** Retrieve antonyms for a given word."
      ],
      "metadata": {
        "id": "EFFaEb7mZlmD"
      }
    },
    {
      "cell_type": "code",
      "source": [
        "word = \"good\"\n",
        "antonyms = []\n",
        "for synset in wordnet.synsets(word):\n",
        "    for lemma in synset.lemmas():\n",
        "        if lemma.antonyms():\n",
        "            antonyms.append(lemma.antonyms()[0].name())\n",
        "print(\"Antonyms of\", word, \":\", antonyms)"
      ],
      "metadata": {
        "colab": {
          "base_uri": "https://localhost:8080/"
        },
        "id": "b3OdDi3aZgcg",
        "outputId": "cb75b32b-9f9c-4659-fb1c-7bea7254b7ac"
      },
      "execution_count": 15,
      "outputs": [
        {
          "output_type": "stream",
          "name": "stdout",
          "text": [
            "Antonyms of good : ['evil', 'evilness', 'bad', 'badness', 'bad', 'evil', 'ill']\n"
          ]
        }
      ]
    },
    {
      "cell_type": "code",
      "source": [
        "word = \"bad\"\n",
        "antonyms = []\n",
        "for synset in wordnet.synsets(word):\n",
        "    for lemma in synset.lemmas():\n",
        "        if lemma.antonyms():\n",
        "            antonyms.append(lemma.antonyms()[0].name())\n",
        "print(\"Antonyms of\", word, \":\", antonyms)"
      ],
      "metadata": {
        "colab": {
          "base_uri": "https://localhost:8080/"
        },
        "id": "7cmFUoPVZtbn",
        "outputId": "234ae87e-36bf-4301-c40e-b13bd7abb87f"
      },
      "execution_count": 18,
      "outputs": [
        {
          "output_type": "stream",
          "name": "stdout",
          "text": [
            "Antonyms of bad : ['good', 'goodness', 'good', 'unregretful']\n"
          ]
        }
      ]
    },
    {
      "cell_type": "markdown",
      "source": [
        "**d. Similarity:** Calculate similarity between two words using path similarity or Wu-Palmer similarity."
      ],
      "metadata": {
        "id": "XKkTT6asZ38u"
      }
    },
    {
      "cell_type": "code",
      "source": [
        "word1 = \"car\"\n",
        "word2 = \"automobile\"\n",
        "synset1 = wordnet.synset(word1 + '.n.01')\n",
        "synset2 = wordnet.synset(word2 + '.n.01')\n",
        "path_similarity = synset1.path_similarity(synset2)\n",
        "wu_palmer_similarity = synset1.wup_similarity(synset2)\n",
        "print(\"Path Similarity between\", word1, \"and\", word2, \":\", path_similarity)\n",
        "print(\"Wu-Palmer Similarity between\", word1, \"and\", word2, \":\", wu_palmer_similarity)"
      ],
      "metadata": {
        "colab": {
          "base_uri": "https://localhost:8080/"
        },
        "id": "b_7-TqgMZ3pS",
        "outputId": "b890bb74-3b93-4919-f774-350184aad896"
      },
      "execution_count": 19,
      "outputs": [
        {
          "output_type": "stream",
          "name": "stdout",
          "text": [
            "Path Similarity between car and automobile : 1.0\n",
            "Wu-Palmer Similarity between car and automobile : 1.0\n"
          ]
        }
      ]
    },
    {
      "cell_type": "code",
      "source": [
        "word1 = \"book\"\n",
        "word2 = \"magazine\"\n",
        "synset1 = wordnet.synset(word1 + '.n.01')\n",
        "synset2 = wordnet.synset(word2 + '.n.01')\n",
        "path_similarity = synset1.path_similarity(synset2)\n",
        "wu_palmer_similarity = synset1.wup_similarity(synset2)\n",
        "print(\"Path Similarity between\", word1, \"and\", word2, \":\", path_similarity)\n",
        "print(\"Wu-Palmer Similarity between\", word1, \"and\", word2, \":\", wu_palmer_similarity)"
      ],
      "metadata": {
        "colab": {
          "base_uri": "https://localhost:8080/"
        },
        "id": "ZNihr-eUZ3cr",
        "outputId": "884378bb-3e45-4e20-8eb1-9099674edcfe"
      },
      "execution_count": 21,
      "outputs": [
        {
          "output_type": "stream",
          "name": "stdout",
          "text": [
            "Path Similarity between book and magazine : 0.3333333333333333\n",
            "Wu-Palmer Similarity between book and magazine : 0.9\n"
          ]
        }
      ]
    }
  ]
}