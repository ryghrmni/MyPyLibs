{
  "nbformat": 4,
  "nbformat_minor": 0,
  "metadata": {
    "colab": {
      "provenance": [],
      "collapsed_sections": [
        "DAYoa2RvPJst",
        "hDxVzV1jU4nX"
      ],
      "include_colab_link": true
    },
    "kernelspec": {
      "name": "python3",
      "display_name": "Python 3"
    },
    "language_info": {
      "name": "python"
    }
  },
  "cells": [
    {
      "cell_type": "markdown",
      "metadata": {
        "id": "view-in-github",
        "colab_type": "text"
      },
      "source": [
        "<a href=\"https://colab.research.google.com/github/ryghrmni/MyPyLibs/blob/main/nltk_tutorial.ipynb\" target=\"_parent\"><img src=\"https://colab.research.google.com/assets/colab-badge.svg\" alt=\"Open In Colab\"/></a>"
      ]
    },
    {
      "cell_type": "markdown",
      "source": [
        "# **What is NLTK?**\n",
        "NLTK (Natural Language Toolkit) is a powerful Python library for natural language processing (NLP). It provides easy-to-use interfaces to over 50 corpora and lexical resources such as WordNet, along with a suite of text processing libraries for tasks such as tokenization, stemming, tagging, parsing, and classification. It's widely used both in academia and industry for tasks ranging from simple text analysis to more complex natural language understanding and generation tasks.\n",
        "\n",
        "To install NLTK, you can use below command: \\\\\n",
        "```\n",
        "pip install nltk\n",
        "```\n",
        "---\n",
        "**How to install:** https://www.nltk.org/install.html\n",
        "\n",
        "**reference:** https://www.nltk.org/index.html"
      ],
      "metadata": {
        "id": "mx4OvzG570uO"
      }
    },
    {
      "cell_type": "code",
      "source": [
        "import nltk"
      ],
      "metadata": {
        "id": "IaD4FDX-WCfL"
      },
      "execution_count": 21,
      "outputs": []
    },
    {
      "cell_type": "markdown",
      "source": [
        "## **1. Introduction**\n",
        "In Natural Language Processing (NLP), strings and regular expressions (regex) play crucial roles in various tasks, especially when working with libraries like NLTK (Natural Language Toolkit).\n",
        "\n",
        "In this section, we will review strings and regular expressions.\n"
      ],
      "metadata": {
        "id": "DAYoa2RvPJst"
      }
    },
    {
      "cell_type": "markdown",
      "source": [
        "### **1.1. Strings**\n",
        "\n",
        "In Python, a string is a sequence of characters. It's one of the basic data types built into Python, and it's used to represent text. Strings in Python are immutable, meaning once they are created, their contents cannot be changed.\n",
        "\n",
        "You can create strings by enclosing text in either single quotes (''), double quotes (\"\") or triple quotes (''' or \"\"\"). For example:\n",
        "```\n",
        "first_sentence = 'Hello, World!'\n",
        "second_sentence = \"Python is awesome!\"\n",
        "multiline_string = '''\n",
        "This is a\n",
        "multiline\n",
        "string.\n",
        "'''\n",
        "```\n",
        "Strings support various operations and methods for manipulation and processing, such as concatenation, slicing, formatting, and searching. For example:\n",
        "```\n",
        "# Concatenation\n",
        "combined_string = first_sentence + ' ' + second_sentence\n",
        "\n",
        "# Slicing\n",
        "substring = first_sentence[7:]  # Output: 'World!'\n",
        "\n",
        "# Formatting\n",
        "name = 'Alice'\n",
        "greeting = f'Hello, {name}!'\n",
        "```\n",
        "Now, we want to delve deeply into the important features of strings in Python."
      ],
      "metadata": {
        "id": "xG7NHTP7by5F"
      }
    },
    {
      "cell_type": "markdown",
      "source": [
        "The sentence you see below has been selected from the [Yelp dataset](https://www.yelp.com/dataset). This dataset pertains to business data where user reviews for each business have been collected."
      ],
      "metadata": {
        "id": "v1D59pE-Lf0_"
      }
    },
    {
      "cell_type": "code",
      "source": [
        "text = \"I can only comment on the vermicelli bowls because I have never had the Pho. The vermicelli are a decent size and a fair price. Conveniently located if you live in the Alberta Ave neighbourhood, my orders have always been ready in 15 minutes - even on a Friday night.\""
      ],
      "metadata": {
        "id": "wwU4Y5hZSdO6"
      },
      "execution_count": 1,
      "outputs": []
    },
    {
      "cell_type": "code",
      "source": [
        "text"
      ],
      "metadata": {
        "colab": {
          "base_uri": "https://localhost:8080/",
          "height": 53
        },
        "id": "033TunNyTAlU",
        "outputId": "0b4e502d-32ff-4454-93dd-9239c6163991"
      },
      "execution_count": null,
      "outputs": [
        {
          "output_type": "execute_result",
          "data": {
            "text/plain": [
              "'I can only comment on the vermicelli bowls because I have never had the Pho. The vermicelli are a decent size and a fair price. Conveniently located if you live in the Alberta Ave neighbourhood, my orders have always been ready in 15 minutes - even on a Friday night.'"
            ],
            "application/vnd.google.colaboratory.intrinsic+json": {
              "type": "string"
            }
          },
          "metadata": {},
          "execution_count": 3
        }
      ]
    },
    {
      "cell_type": "markdown",
      "source": [
        "**Slicing** \\\\\n",
        "Specify the start index and the end index, separated by a colon, to return a part of the string."
      ],
      "metadata": {
        "id": "kugkJn4GKoeL"
      }
    },
    {
      "cell_type": "code",
      "source": [
        "# The first character has index 0.\n",
        "text[0]"
      ],
      "metadata": {
        "colab": {
          "base_uri": "https://localhost:8080/",
          "height": 35
        },
        "id": "ZbTRSWOwTGTO",
        "outputId": "bc5f546c-86e8-4d67-9cbc-8e0f5b257df7"
      },
      "execution_count": null,
      "outputs": [
        {
          "output_type": "execute_result",
          "data": {
            "text/plain": [
              "'I'"
            ],
            "application/vnd.google.colaboratory.intrinsic+json": {
              "type": "string"
            }
          },
          "metadata": {},
          "execution_count": 4
        }
      ]
    },
    {
      "cell_type": "code",
      "source": [
        "# Get the characters from the start to position 10 (not included)\n",
        "text[:10]"
      ],
      "metadata": {
        "colab": {
          "base_uri": "https://localhost:8080/",
          "height": 35
        },
        "id": "l8_R0Y4pTI5K",
        "outputId": "5f0cef1f-cffe-43e9-a874-2a871cb30f00"
      },
      "execution_count": null,
      "outputs": [
        {
          "output_type": "execute_result",
          "data": {
            "text/plain": [
              "'I can only'"
            ],
            "application/vnd.google.colaboratory.intrinsic+json": {
              "type": "string"
            }
          },
          "metadata": {},
          "execution_count": 5
        }
      ]
    },
    {
      "cell_type": "code",
      "source": [
        "# Get the characters from position 10, and all the way to the end\n",
        "text[10:]"
      ],
      "metadata": {
        "colab": {
          "base_uri": "https://localhost:8080/",
          "height": 53
        },
        "id": "y5_WeiVRL79q",
        "outputId": "728c390d-5f72-405e-debb-69c6df8b1ba6"
      },
      "execution_count": null,
      "outputs": [
        {
          "output_type": "execute_result",
          "data": {
            "text/plain": [
              "' comment on the vermicelli bowls because I have never had the Pho. The vermicelli are a decent size and a fair price. Conveniently located if you live in the Alberta Ave neighbourhood, my orders have always been ready in 15 minutes - even on a Friday night.'"
            ],
            "application/vnd.google.colaboratory.intrinsic+json": {
              "type": "string"
            }
          },
          "metadata": {},
          "execution_count": 9
        }
      ]
    },
    {
      "cell_type": "code",
      "source": [
        "# Get the characters from position 3 to position 14 (not included).\n",
        "text[3:14]"
      ],
      "metadata": {
        "colab": {
          "base_uri": "https://localhost:8080/",
          "height": 35
        },
        "id": "G-omH0C7TVjB",
        "outputId": "efb22c63-981b-42f9-8889-e55b6ebafa04"
      },
      "execution_count": null,
      "outputs": [
        {
          "output_type": "execute_result",
          "data": {
            "text/plain": [
              "'an only com'"
            ],
            "application/vnd.google.colaboratory.intrinsic+json": {
              "type": "string"
            }
          },
          "metadata": {},
          "execution_count": 6
        }
      ]
    },
    {
      "cell_type": "markdown",
      "source": [
        "**Modification**\n"
      ],
      "metadata": {
        "id": "EwJmSjG_MUYG"
      }
    },
    {
      "cell_type": "code",
      "source": [
        "# The upper() method returns the string in upper case\n",
        "text.upper()"
      ],
      "metadata": {
        "colab": {
          "base_uri": "https://localhost:8080/",
          "height": 53
        },
        "id": "WTkRuvZrMbnx",
        "outputId": "e787c5ab-d903-45d9-c15d-9e6d18dc4dfa"
      },
      "execution_count": null,
      "outputs": [
        {
          "output_type": "execute_result",
          "data": {
            "text/plain": [
              "'I CAN ONLY COMMENT ON THE VERMICELLI BOWLS BECAUSE I HAVE NEVER HAD THE PHO. THE VERMICELLI ARE A DECENT SIZE AND A FAIR PRICE. CONVENIENTLY LOCATED IF YOU LIVE IN THE ALBERTA AVE NEIGHBOURHOOD, MY ORDERS HAVE ALWAYS BEEN READY IN 15 MINUTES - EVEN ON A FRIDAY NIGHT.'"
            ],
            "application/vnd.google.colaboratory.intrinsic+json": {
              "type": "string"
            }
          },
          "metadata": {},
          "execution_count": 10
        }
      ]
    },
    {
      "cell_type": "code",
      "source": [
        "# The lower() method returns the string in lower case\n",
        "text.lower()"
      ],
      "metadata": {
        "colab": {
          "base_uri": "https://localhost:8080/",
          "height": 53
        },
        "id": "Bbe4BPynMblv",
        "outputId": "061cf0f8-d552-48ec-95c7-c84c99d7ce5d"
      },
      "execution_count": null,
      "outputs": [
        {
          "output_type": "execute_result",
          "data": {
            "text/plain": [
              "'i can only comment on the vermicelli bowls because i have never had the pho. the vermicelli are a decent size and a fair price. conveniently located if you live in the alberta ave neighbourhood, my orders have always been ready in 15 minutes - even on a friday night.'"
            ],
            "application/vnd.google.colaboratory.intrinsic+json": {
              "type": "string"
            }
          },
          "metadata": {},
          "execution_count": 11
        }
      ]
    },
    {
      "cell_type": "code",
      "source": [
        "# The strip() method removes any whitespace from the beginning or the end\n",
        "text.strip()"
      ],
      "metadata": {
        "colab": {
          "base_uri": "https://localhost:8080/",
          "height": 53
        },
        "id": "PyfxfVC8MbjM",
        "outputId": "3441788c-e5fd-463c-824a-96c99aa9d096"
      },
      "execution_count": null,
      "outputs": [
        {
          "output_type": "execute_result",
          "data": {
            "text/plain": [
              "'I can only comment on the vermicelli bowls because I have never had the Pho. The vermicelli are a decent size and a fair price. Conveniently located if you live in the Alberta Ave neighbourhood, my orders have always been ready in 15 minutes - even on a Friday night.'"
            ],
            "application/vnd.google.colaboratory.intrinsic+json": {
              "type": "string"
            }
          },
          "metadata": {},
          "execution_count": 13
        }
      ]
    },
    {
      "cell_type": "code",
      "source": [
        "# The replace() method replaces a string with another string\n",
        "text.replace(\"o\", \"x\")"
      ],
      "metadata": {
        "colab": {
          "base_uri": "https://localhost:8080/",
          "height": 53
        },
        "id": "wL5fA0luMvYU",
        "outputId": "56b48120-df68-4896-d68e-9022d573235d"
      },
      "execution_count": null,
      "outputs": [
        {
          "output_type": "execute_result",
          "data": {
            "text/plain": [
              "'I can xnly cxmment xn the vermicelli bxwls because I have never had the Phx. The vermicelli are a decent size and a fair price. Cxnveniently lxcated if yxu live in the Alberta Ave neighbxurhxxd, my xrders have always been ready in 15 minutes - even xn a Friday night.'"
            ],
            "application/vnd.google.colaboratory.intrinsic+json": {
              "type": "string"
            }
          },
          "metadata": {},
          "execution_count": 14
        }
      ]
    },
    {
      "cell_type": "code",
      "source": [
        "# The split() method splits the string into substrings if it finds instances of the separator\n",
        "text.split(\".\")"
      ],
      "metadata": {
        "colab": {
          "base_uri": "https://localhost:8080/"
        },
        "id": "KPTU3J9zMvWH",
        "outputId": "50bbb8ee-7c58-440e-832d-2d79eb539259"
      },
      "execution_count": null,
      "outputs": [
        {
          "output_type": "execute_result",
          "data": {
            "text/plain": [
              "['I can only comment on the vermicelli bowls because I have never had the Pho',\n",
              " ' The vermicelli are a decent size and a fair price',\n",
              " ' Conveniently located if you live in the Alberta Ave neighbourhood, my orders have always been ready in 15 minutes - even on a Friday night',\n",
              " '']"
            ]
          },
          "metadata": {},
          "execution_count": 16
        }
      ]
    },
    {
      "cell_type": "markdown",
      "source": [
        "**Concatenation**\n",
        "\n",
        "\n",
        "```\n",
        "# Define two strings\n",
        "first_name = \"John\"\n",
        "last_name = \"Doe\"\n",
        "\n",
        "# Concatenate the strings\n",
        "full_name = first_name + \" \" + last_name\n",
        "\n",
        "# Print the result\n",
        "print(full_name)\n",
        "```\n",
        "\n"
      ],
      "metadata": {
        "id": "PF82TOoYNFJT"
      }
    },
    {
      "cell_type": "markdown",
      "source": [
        "**Other String Methods**"
      ],
      "metadata": {
        "id": "v5KVWvNzNcgP"
      }
    },
    {
      "cell_type": "code",
      "source": [
        "# The length of a string is the number of characters it contains, including spaces and special characters.\n",
        "len(text)"
      ],
      "metadata": {
        "colab": {
          "base_uri": "https://localhost:8080/"
        },
        "id": "4A4M5RBvTL8L",
        "outputId": "d6cc7fcc-2293-4779-8fe0-b8cca565f129"
      },
      "execution_count": null,
      "outputs": [
        {
          "output_type": "execute_result",
          "data": {
            "text/plain": [
              "267"
            ]
          },
          "metadata": {},
          "execution_count": 7
        }
      ]
    },
    {
      "cell_type": "code",
      "source": [
        "# # The find() method is used to search for a substring within a string. It returns the index of the first occurrence of the substring if it is found, and -1 if the substring is not found.\n",
        "query = text.find(\"comment\")\n",
        "query"
      ],
      "metadata": {
        "colab": {
          "base_uri": "https://localhost:8080/"
        },
        "id": "DtB-zp3QTqsN",
        "outputId": "dcbf0f63-032a-4151-e607-98d87ee627a4"
      },
      "execution_count": null,
      "outputs": [
        {
          "output_type": "execute_result",
          "data": {
            "text/plain": [
              "11"
            ]
          },
          "metadata": {},
          "execution_count": 9
        }
      ]
    },
    {
      "cell_type": "code",
      "source": [
        "query = text.find(\"o\")\n",
        "query"
      ],
      "metadata": {
        "colab": {
          "base_uri": "https://localhost:8080/"
        },
        "id": "H0iYDVQLT6Nz",
        "outputId": "8668fb3a-a12a-4a65-c0fc-62e6ec4237d0"
      },
      "execution_count": null,
      "outputs": [
        {
          "output_type": "execute_result",
          "data": {
            "text/plain": [
              "6"
            ]
          },
          "metadata": {},
          "execution_count": 10
        }
      ]
    },
    {
      "cell_type": "code",
      "source": [
        "query = text.find(\"o\", 10, 20)\n",
        "query"
      ],
      "metadata": {
        "colab": {
          "base_uri": "https://localhost:8080/"
        },
        "id": "Pds1c8tST971",
        "outputId": "767a18c4-4b7a-48bc-f3e7-3c43010f06a6"
      },
      "execution_count": null,
      "outputs": [
        {
          "output_type": "execute_result",
          "data": {
            "text/plain": [
              "12"
            ]
          },
          "metadata": {},
          "execution_count": 11
        }
      ]
    },
    {
      "cell_type": "code",
      "source": [
        "# The count() method is used to count the number of occurrences of a substring within a string. It returns the count of occurrences of the specified substring.\n",
        "query = text.count(\"have\")\n",
        "query"
      ],
      "metadata": {
        "colab": {
          "base_uri": "https://localhost:8080/"
        },
        "id": "JDmCBVSAUIM3",
        "outputId": "3b06d07e-675e-4ce5-fe43-86692af4eb8b"
      },
      "execution_count": null,
      "outputs": [
        {
          "output_type": "execute_result",
          "data": {
            "text/plain": [
              "2"
            ]
          },
          "metadata": {},
          "execution_count": 14
        }
      ]
    },
    {
      "cell_type": "code",
      "source": [
        "query = text.count(\"have\", 10,100)\n",
        "query"
      ],
      "metadata": {
        "colab": {
          "base_uri": "https://localhost:8080/"
        },
        "id": "tdNU_LAPUTwE",
        "outputId": "6d014bb7-f88a-4535-a88c-0978ab83e8bb"
      },
      "execution_count": null,
      "outputs": [
        {
          "output_type": "execute_result",
          "data": {
            "text/plain": [
              "1"
            ]
          },
          "metadata": {},
          "execution_count": 15
        }
      ]
    },
    {
      "cell_type": "code",
      "source": [
        "# Converts the first character to upper case\n",
        "text.capitalize()"
      ],
      "metadata": {
        "colab": {
          "base_uri": "https://localhost:8080/",
          "height": 53
        },
        "id": "vR3bY-16TUto",
        "outputId": "458063ab-b927-4765-9523-f3e6a553bde0"
      },
      "execution_count": null,
      "outputs": [
        {
          "output_type": "execute_result",
          "data": {
            "text/plain": [
              "'I can only comment on the vermicelli bowls because i have never had the pho. the vermicelli are a decent size and a fair price. conveniently located if you live in the alberta ave neighbourhood, my orders have always been ready in 15 minutes - even on a friday night.'"
            ],
            "application/vnd.google.colaboratory.intrinsic+json": {
              "type": "string"
            }
          },
          "metadata": {},
          "execution_count": 17
        }
      ]
    },
    {
      "cell_type": "code",
      "source": [
        "# The endswith() method returns True if the string ends with the specified value, otherwise False.\n",
        "print(text.endswith(\".\"))\n",
        "print(text.endswith(\".\", 5, 11))"
      ],
      "metadata": {
        "colab": {
          "base_uri": "https://localhost:8080/"
        },
        "id": "CYItcFXvTjW-",
        "outputId": "b8a83bb2-3163-4f6e-b396-e6733902a7c6"
      },
      "execution_count": null,
      "outputs": [
        {
          "output_type": "stream",
          "name": "stdout",
          "text": [
            "True\n",
            "False\n"
          ]
        }
      ]
    },
    {
      "cell_type": "code",
      "source": [
        "# The startswith() method returns True if the string starts with the specified value, otherwise False.\n",
        "print(text.startswith(\"I\"))\n",
        "print(text.startswith(\"I\", 5, 11))"
      ],
      "metadata": {
        "colab": {
          "base_uri": "https://localhost:8080/"
        },
        "id": "ldqJk2DtUXMT",
        "outputId": "191f3ba1-9bc5-4c3d-81c2-612587afe0cf"
      },
      "execution_count": null,
      "outputs": [
        {
          "output_type": "stream",
          "name": "stdout",
          "text": [
            "True\n",
            "False\n"
          ]
        }
      ]
    },
    {
      "cell_type": "code",
      "source": [
        "# it converts the first character of each word to upper case.\n",
        "text.title()"
      ],
      "metadata": {
        "colab": {
          "base_uri": "https://localhost:8080/",
          "height": 53
        },
        "id": "TkNgk0VMUjwW",
        "outputId": "185390a7-1752-48f3-ebf6-6a7ffbcf2820"
      },
      "execution_count": null,
      "outputs": [
        {
          "output_type": "execute_result",
          "data": {
            "text/plain": [
              "'I Can Only Comment On The Vermicelli Bowls Because I Have Never Had The Pho. The Vermicelli Are A Decent Size And A Fair Price. Conveniently Located If You Live In The Alberta Ave Neighbourhood, My Orders Have Always Been Ready In 15 Minutes - Even On A Friday Night.'"
            ],
            "application/vnd.google.colaboratory.intrinsic+json": {
              "type": "string"
            }
          },
          "metadata": {},
          "execution_count": 26
        }
      ]
    },
    {
      "cell_type": "markdown",
      "source": [
        "### **1.2. Regular Expressions (RegEx)**\n",
        "\n",
        "Regular Expression (Regex) is a sequence of characters that specifies a pattern in any given text (string).\n",
        "\n",
        "Regex can be used to search, extract, validate, or transform text based on specified patterns. This pattern can be as basic as searching for a comma (,) in a text or as complex as searching for a valid email address in a text.\n",
        "\n",
        "Regex comes in handy in Natural Language Processing (NLP), Web Scraping, Data Validation, Text Search and Manipulation, etc. Software Developers, Data Analysts, or Machine Learning Engineers need Regex at one point or the other. It’s almost inevitable.\n",
        "\n",
        "**reference:** https://medium.com/@victoriousjvictor/understanding-regular-expressions-regex-e1c048f5aa6c"
      ],
      "metadata": {
        "id": "7mJn27O8b-00"
      }
    },
    {
      "cell_type": "markdown",
      "source": [
        "Python has a built-in package called re, which can be used to work with Regular Expressions.\n",
        "Import the re module:\n",
        "\n",
        "\n",
        "```\n",
        "import re\n",
        "```\n",
        "\n",
        "**reference:** https://www.w3schools.com/python/python_regex.asp\n"
      ],
      "metadata": {
        "id": "5xb6qL8hfIF9"
      }
    },
    {
      "cell_type": "markdown",
      "source": [
        "**RegEx Functions:**\n",
        "\n",
        "\n",
        "*   findall: Returns a list containing all matches\n",
        "*   search: Returns a Match object if there is a match anywhere in the string\n",
        "*   split: Returns a list where the string has been split at each match\n",
        "*   sub: Replaces one or many matches with a string\n",
        "\n",
        "**Metacharacters:**\n",
        "\n",
        "\n",
        "*   [ ]: A set of characters (\"[a-m]\")\n",
        "*   \\: Signals a special sequence (\"\\d\")\n",
        "*   .: Any character (\"he..o\")\n",
        "*   ^: Starts with (\"^hello\")\n",
        "*   \\$:\tEnds with\t(\"planet$\")\n",
        "*   \\*:\tZero or more occurrences\t(\"he.*o\")\n",
        "*   +:\tOne or more occurrences\t(\"he.+o\")\n",
        "*   ?:\tZero or one occurrences\t(\"he.?o\")\n",
        "*   {}:\tExactly the specified number of occurrences\t(\"he.{2}o\")\n",
        "*   |:\tEither or\t(\"falls|stays\")\n",
        "\n",
        "**Special Sequences:**\n",
        "\n",
        "\n",
        "*   \\b:\tReturns a match where the specified characters are at the beginning or at the end of a word\n",
        "*   \\B:\tReturns a match where the specified characters are present, but NOT at the beginning (or at the end) of a word\n",
        "*   \\d:\tReturns a match where the string contains digits (numbers from 0-9)\n",
        "*   \\D:\tReturns a match where the string DOES NOT contain digits\n",
        "*   \\s:\tReturns a match where the string contains a white space character\n",
        "*   \\S:\tReturns a match where the string DOES NOT contain a white space character\n",
        "*   \\w:\tReturns a match where the string contains any word characters (characters from a to Z, digits from 0-9, and the underscore _ character)\n",
        "*   \\W:\tReturns a match where the string DOES NOT contain any word characters\n",
        "\n",
        "**Sets:**\n",
        "\n",
        "\n",
        "*   [arn]:\tReturns a match where one of the specified characters (a, r, or n) is present\n",
        "*   [a-n]:\tReturns a match for any lower case character, alphabetically between a and n\n",
        "*   [^arn]:\tReturns a match for any character EXCEPT a, r, and n\n",
        "*   [0123]:\tReturns a match where any of the specified digits (0, 1, 2, or 3) are present\n",
        "*   [0-9]:\tReturns a match for any digit between 0 and 9\n",
        "*   [0-5][0-9]:\tReturns a match for any two-digit numbers from 00 and 59\n",
        "*   [a-zA-Z]:\tReturns a match for any character alphabetically between a and z, lower case OR upper case\n",
        "*   [+]:\tIn sets, +, *, ., |, (), $,{} has no special meaning, so [+] means: return a match for any + character in the string\n",
        "\n",
        "**reference:** https://www.w3schools.com/python/python_regex.asp\n",
        "\n",
        "\n"
      ],
      "metadata": {
        "id": "GxmrXPB8uIfw"
      }
    },
    {
      "cell_type": "code",
      "source": [
        "import re"
      ],
      "metadata": {
        "id": "IE9g6d71nveO"
      },
      "execution_count": 3,
      "outputs": []
    },
    {
      "cell_type": "code",
      "source": [
        "# 1. Matching specific words\n",
        "matches = re.findall(r'\\bvermicelli\\b', text)\n",
        "print(\"1. Matches for 'vermicelli':\", matches)"
      ],
      "metadata": {
        "id": "Z_lHI376cHw4",
        "colab": {
          "base_uri": "https://localhost:8080/"
        },
        "outputId": "b8d0b2a2-6c37-48f7-a0de-46fb7bdea467"
      },
      "execution_count": 4,
      "outputs": [
        {
          "output_type": "stream",
          "name": "stdout",
          "text": [
            "1. Matches for 'vermicelli': ['vermicelli', 'vermicelli']\n"
          ]
        }
      ]
    },
    {
      "cell_type": "code",
      "source": [
        "# 2. Matching words with variations (case insensitive)\n",
        "matches = re.findall(r'\\bpho\\b', text, re.IGNORECASE)\n",
        "print(\"2. Matches for 'pho' (case insensitive):\", matches)"
      ],
      "metadata": {
        "id": "y325cWiecHuI",
        "colab": {
          "base_uri": "https://localhost:8080/"
        },
        "outputId": "8c24ce26-ebd1-4d02-d175-304c76298a5d"
      },
      "execution_count": 5,
      "outputs": [
        {
          "output_type": "stream",
          "name": "stdout",
          "text": [
            "2. Matches for 'pho' (case insensitive): ['Pho']\n"
          ]
        }
      ]
    },
    {
      "cell_type": "code",
      "source": [
        "# 3. Matching words with wildcards\n",
        "matches = re.findall(r'\\b\\w+ly\\b', text)\n",
        "print(\"3. Adverbs ending with 'ly':\", matches)"
      ],
      "metadata": {
        "colab": {
          "base_uri": "https://localhost:8080/"
        },
        "id": "pDVTBUzcn3Jb",
        "outputId": "ae760216-97d2-4ff7-aee8-390da9d9b35a"
      },
      "execution_count": 6,
      "outputs": [
        {
          "output_type": "stream",
          "name": "stdout",
          "text": [
            "3. Adverbs ending with 'ly': ['only', 'Conveniently']\n"
          ]
        }
      ]
    },
    {
      "cell_type": "code",
      "source": [
        "# 4. Matching words with specified character count\n",
        "matches = re.findall(r'\\b\\w{4}\\b', text)\n",
        "print(\"4. Words with 4 characters:\", matches)"
      ],
      "metadata": {
        "colab": {
          "base_uri": "https://localhost:8080/"
        },
        "id": "tMX3GQBGn6OO",
        "outputId": "462750f3-7e47-49fa-cb72-ee7e127be143"
      },
      "execution_count": 7,
      "outputs": [
        {
          "output_type": "stream",
          "name": "stdout",
          "text": [
            "4. Words with 4 characters: ['only', 'have', 'size', 'fair', 'live', 'have', 'been', 'even']\n"
          ]
        }
      ]
    },
    {
      "cell_type": "code",
      "source": [
        "# 5. Matching words within a specified range of character count\n",
        "matches = re.findall(r'\\b\\w{3,5}\\b', text)\n",
        "print(\"5. Words with 3 to 5 characters:\", matches)"
      ],
      "metadata": {
        "colab": {
          "base_uri": "https://localhost:8080/"
        },
        "id": "PqWEt-Sbn86q",
        "outputId": "0b475604-0f62-4b55-ae49-e235393193b2"
      },
      "execution_count": 8,
      "outputs": [
        {
          "output_type": "stream",
          "name": "stdout",
          "text": [
            "5. Words with 3 to 5 characters: ['can', 'only', 'the', 'bowls', 'have', 'never', 'had', 'the', 'Pho', 'The', 'are', 'size', 'and', 'fair', 'price', 'you', 'live', 'the', 'Ave', 'have', 'been', 'ready', 'even', 'night']\n"
          ]
        }
      ]
    },
    {
      "cell_type": "code",
      "source": [
        "# 6. Matching digits\n",
        "matches = re.findall(r'\\b\\d+\\b', text)\n",
        "print(\"6. Digits found:\", matches)"
      ],
      "metadata": {
        "colab": {
          "base_uri": "https://localhost:8080/"
        },
        "id": "D_R1oil1n-Nj",
        "outputId": "37a48b62-229a-40e1-a002-6d5b49316b59"
      },
      "execution_count": 9,
      "outputs": [
        {
          "output_type": "stream",
          "name": "stdout",
          "text": [
            "6. Digits found: ['15']\n"
          ]
        }
      ]
    },
    {
      "cell_type": "code",
      "source": [
        "# 7. Matching specific patterns (e.g., numbers followed by 'minutes')\n",
        "matches = re.findall(r'\\b\\d+\\s*minutes\\b', text)\n",
        "print(\"7. Patterns matching 'digit + minutes':\", matches)"
      ],
      "metadata": {
        "colab": {
          "base_uri": "https://localhost:8080/"
        },
        "id": "Mb_ohs5Hn-8X",
        "outputId": "6f8e7acd-8b7b-4f3c-ffdf-161401fea044"
      },
      "execution_count": 10,
      "outputs": [
        {
          "output_type": "stream",
          "name": "stdout",
          "text": [
            "7. Patterns matching 'digit + minutes': ['15 minutes']\n"
          ]
        }
      ]
    },
    {
      "cell_type": "code",
      "source": [
        "# 8. Matching with capture groups\n",
        "matches = re.findall(r'(\\w+ly)\\slocated', text)\n",
        "print(\"8. Adverbs before 'located':\", [match[0] for match in matches])"
      ],
      "metadata": {
        "colab": {
          "base_uri": "https://localhost:8080/"
        },
        "id": "8ERKHnpMoCSC",
        "outputId": "9bcb38a7-937f-4ef8-d1fa-c74e0e89eba0"
      },
      "execution_count": 11,
      "outputs": [
        {
          "output_type": "stream",
          "name": "stdout",
          "text": [
            "8. Adverbs before 'located': ['C']\n"
          ]
        }
      ]
    },
    {
      "cell_type": "code",
      "source": [
        "# 9. Replacing matched patterns\n",
        "replaced_text = re.sub(r'\\bvermicelli\\b', 'noodles', text)\n",
        "print(\"9. Replaced 'vermicelli' with 'noodles':\", replaced_text)"
      ],
      "metadata": {
        "colab": {
          "base_uri": "https://localhost:8080/"
        },
        "id": "SCWyBikNoDhZ",
        "outputId": "7162c19b-8be9-48b6-fa36-0e5ccb6ed890"
      },
      "execution_count": 12,
      "outputs": [
        {
          "output_type": "stream",
          "name": "stdout",
          "text": [
            "9. Replaced 'vermicelli' with 'noodles': I can only comment on the noodles bowls because I have never had the Pho. The noodles are a decent size and a fair price. Conveniently located if you live in the Alberta Ave neighbourhood, my orders have always been ready in 15 minutes - even on a Friday night.\n"
          ]
        }
      ]
    },
    {
      "cell_type": "markdown",
      "source": [
        "## **2. Tokenization**\n",
        "\n",
        "![tok.jpg](data:image/jpeg;base64,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)\n",
        "\n",
        "Tokenization is the process of breaking down a text document into smaller units called tokens. These tokens can be words, sentences, or other meaningful subunits depending on the context and requirements of the task. In Natural Language Processing (NLP), tokenization is often the first step in text processing and analysis.\n",
        "\n",
        "Tokenization is a fundamental step in many Natural Language Processing (NLP) tasks and is used in various scenarios:\n",
        "\n",
        "\n",
        "*   Text Preprocessing: Tokenization is often the first step in preprocessing text data for NLP tasks. By breaking down the text into smaller units such as words or sentences, tokenization facilitates further analysis and processing.\n",
        "*   Feature Extraction: In many NLP tasks, the tokens themselves serve as features for machine learning models. For example, in text classification tasks, each token (word) in a document may be represented as a feature, and tokenization is used to extract these features.\n",
        "*   Information Retrieval: In search engines and information retrieval systems, tokenization is used to index and retrieve documents based on user queries. By tokenizing both the documents and the query, these systems can match relevant documents to user queries more accurately.\n",
        "*   Named Entity Recognition: Tokenization plays a crucial role in named entity recognition (NER), where the goal is to identify and classify named entities (such as names of people, organizations, locations, etc.) within text. Tokenization helps in segmenting the text into meaningful units for NER algorithms to analyze.\n",
        "*   Sentiment Analysis: Tokenization is used in sentiment analysis tasks to analyze the sentiment expressed in text documents. By tokenizing the text into words or phrases, sentiment analysis algorithms can identify and analyze the sentiment associated with each token, enabling the classification of text into positive, negative, or neutral sentiment.\n",
        "\n",
        "For more information, read this [link](https://medium.com/@ajay_khanna/tokenization-techniques-in-natural-language-processing-67bb22088c75).\n",
        "\n",
        "**reference:** https://www.nltk.org/api/nltk.tokenize.html\n"
      ],
      "metadata": {
        "id": "hDxVzV1jU4nX"
      }
    },
    {
      "cell_type": "code",
      "source": [
        "\"\"\"\n",
        "The Punkt tokenizer is a pre-trained unsupervised machine learning model provided by NLTK for tokenization tasks.\n",
        "It is capable of tokenizing text into sentences and words based on the language's grammar rules and punctuation.\n",
        "This tokenizer is widely used and is the default tokenizer in NLTK for word and sentence tokenization.\n",
        "\"\"\"\n",
        "nltk.download('punkt')"
      ],
      "metadata": {
        "colab": {
          "base_uri": "https://localhost:8080/"
        },
        "id": "pLXmCspBV1yh",
        "outputId": "64140d40-8814-48b0-db9f-62971de3f4d6"
      },
      "execution_count": null,
      "outputs": [
        {
          "output_type": "stream",
          "name": "stderr",
          "text": [
            "[nltk_data] Downloading package punkt to /root/nltk_data...\n",
            "[nltk_data]   Package punkt is already up-to-date!\n"
          ]
        },
        {
          "output_type": "execute_result",
          "data": {
            "text/plain": [
              "True"
            ]
          },
          "metadata": {},
          "execution_count": 28
        }
      ]
    },
    {
      "cell_type": "code",
      "source": [
        "# After downloading, you can use NLTK's word_tokenize() and sent_tokenize() functions to tokenize text into words and sentences, respectively, using the Punkt tokenizer.\n",
        "from nltk.tokenize import sent_tokenize, word_tokenize"
      ],
      "metadata": {
        "id": "oJaYgXWbVQQU"
      },
      "execution_count": 26,
      "outputs": []
    },
    {
      "cell_type": "code",
      "source": [
        "# The sent_tokenize(text) is a function provided by NLTK (Natural Language Toolkit) for tokenizing text into sentences.\n",
        "sent_tokenize(text)"
      ],
      "metadata": {
        "colab": {
          "base_uri": "https://localhost:8080/"
        },
        "id": "JstDiOaJVt3E",
        "outputId": "4f1719b7-8f4f-474d-b8fe-b8d38ec75fd6"
      },
      "execution_count": null,
      "outputs": [
        {
          "output_type": "execute_result",
          "data": {
            "text/plain": [
              "['I can only comment on the vermicelli bowls because I have never had the Pho.',\n",
              " 'The vermicelli are a decent size and a fair price.',\n",
              " 'Conveniently located if you live in the Alberta Ave neighbourhood, my orders have always been ready in 15 minutes - even on a Friday night.']"
            ]
          },
          "metadata": {},
          "execution_count": 31
        }
      ]
    },
    {
      "cell_type": "code",
      "source": [
        "# The word_tokenize(text) is a function provided by NLTK (Natural Language Toolkit) for tokenizing text into words or word-like units.\n",
        "word_tokenize(text)"
      ],
      "metadata": {
        "colab": {
          "base_uri": "https://localhost:8080/"
        },
        "id": "_Wd0ke71V6yn",
        "outputId": "df36c295-75c5-4b8c-92dc-c605ad896af8"
      },
      "execution_count": null,
      "outputs": [
        {
          "output_type": "execute_result",
          "data": {
            "text/plain": [
              "['I',\n",
              " 'can',\n",
              " 'only',\n",
              " 'comment',\n",
              " 'on',\n",
              " 'the',\n",
              " 'vermicelli',\n",
              " 'bowls',\n",
              " 'because',\n",
              " 'I',\n",
              " 'have',\n",
              " 'never',\n",
              " 'had',\n",
              " 'the',\n",
              " 'Pho',\n",
              " '.',\n",
              " 'The',\n",
              " 'vermicelli',\n",
              " 'are',\n",
              " 'a',\n",
              " 'decent',\n",
              " 'size',\n",
              " 'and',\n",
              " 'a',\n",
              " 'fair',\n",
              " 'price',\n",
              " '.',\n",
              " 'Conveniently',\n",
              " 'located',\n",
              " 'if',\n",
              " 'you',\n",
              " 'live',\n",
              " 'in',\n",
              " 'the',\n",
              " 'Alberta',\n",
              " 'Ave',\n",
              " 'neighbourhood',\n",
              " ',',\n",
              " 'my',\n",
              " 'orders',\n",
              " 'have',\n",
              " 'always',\n",
              " 'been',\n",
              " 'ready',\n",
              " 'in',\n",
              " '15',\n",
              " 'minutes',\n",
              " '-',\n",
              " 'even',\n",
              " 'on',\n",
              " 'a',\n",
              " 'Friday',\n",
              " 'night',\n",
              " '.']"
            ]
          },
          "metadata": {},
          "execution_count": 32
        }
      ]
    },
    {
      "cell_type": "code",
      "source": [
        "# The wordpunct_tokenize(text) function, provided by NLTK (Natural Language Toolkit), is another method for tokenizing text into words.\n",
        "from nltk.tokenize import wordpunct_tokenize\n",
        "wordpunct_tokenize(text)"
      ],
      "metadata": {
        "colab": {
          "base_uri": "https://localhost:8080/"
        },
        "id": "WTA23GKLZ9En",
        "outputId": "4152e813-78e4-45d4-f903-a8b65c06dc18"
      },
      "execution_count": null,
      "outputs": [
        {
          "output_type": "execute_result",
          "data": {
            "text/plain": [
              "['I',\n",
              " 'can',\n",
              " 'only',\n",
              " 'comment',\n",
              " 'on',\n",
              " 'the',\n",
              " 'vermicelli',\n",
              " 'bowls',\n",
              " 'because',\n",
              " 'I',\n",
              " 'have',\n",
              " 'never',\n",
              " 'had',\n",
              " 'the',\n",
              " 'Pho',\n",
              " '.',\n",
              " 'The',\n",
              " 'vermicelli',\n",
              " 'are',\n",
              " 'a',\n",
              " 'decent',\n",
              " 'size',\n",
              " 'and',\n",
              " 'a',\n",
              " 'fair',\n",
              " 'price',\n",
              " '.',\n",
              " 'Conveniently',\n",
              " 'located',\n",
              " 'if',\n",
              " 'you',\n",
              " 'live',\n",
              " 'in',\n",
              " 'the',\n",
              " 'Alberta',\n",
              " 'Ave',\n",
              " 'neighbourhood',\n",
              " ',',\n",
              " 'my',\n",
              " 'orders',\n",
              " 'have',\n",
              " 'always',\n",
              " 'been',\n",
              " 'ready',\n",
              " 'in',\n",
              " '15',\n",
              " 'minutes',\n",
              " '-',\n",
              " 'even',\n",
              " 'on',\n",
              " 'a',\n",
              " 'Friday',\n",
              " 'night',\n",
              " '.']"
            ]
          },
          "metadata": {},
          "execution_count": 33
        }
      ]
    },
    {
      "cell_type": "code",
      "source": [
        "# Tokenization Using Python’s split() function\n",
        "text.split()"
      ],
      "metadata": {
        "colab": {
          "base_uri": "https://localhost:8080/"
        },
        "id": "RRj4c4PawfCV",
        "outputId": "756c5517-a946-4b98-9677-8c40366bdd1e"
      },
      "execution_count": 13,
      "outputs": [
        {
          "output_type": "execute_result",
          "data": {
            "text/plain": [
              "['I',\n",
              " 'can',\n",
              " 'only',\n",
              " 'comment',\n",
              " 'on',\n",
              " 'the',\n",
              " 'vermicelli',\n",
              " 'bowls',\n",
              " 'because',\n",
              " 'I',\n",
              " 'have',\n",
              " 'never',\n",
              " 'had',\n",
              " 'the',\n",
              " 'Pho.',\n",
              " 'The',\n",
              " 'vermicelli',\n",
              " 'are',\n",
              " 'a',\n",
              " 'decent',\n",
              " 'size',\n",
              " 'and',\n",
              " 'a',\n",
              " 'fair',\n",
              " 'price.',\n",
              " 'Conveniently',\n",
              " 'located',\n",
              " 'if',\n",
              " 'you',\n",
              " 'live',\n",
              " 'in',\n",
              " 'the',\n",
              " 'Alberta',\n",
              " 'Ave',\n",
              " 'neighbourhood,',\n",
              " 'my',\n",
              " 'orders',\n",
              " 'have',\n",
              " 'always',\n",
              " 'been',\n",
              " 'ready',\n",
              " 'in',\n",
              " '15',\n",
              " 'minutes',\n",
              " '-',\n",
              " 'even',\n",
              " 'on',\n",
              " 'a',\n",
              " 'Friday',\n",
              " 'night.']"
            ]
          },
          "metadata": {},
          "execution_count": 13
        }
      ]
    },
    {
      "cell_type": "code",
      "source": [
        "# Tokenization Using Regular Expressions (RegEx)\n",
        "tokens = re.findall(\"[\\w]+\", text)\n",
        "tokens"
      ],
      "metadata": {
        "colab": {
          "base_uri": "https://localhost:8080/"
        },
        "id": "odIgZDpIwmYc",
        "outputId": "c34f5798-4d36-4ef9-f359-143f56d15410"
      },
      "execution_count": 17,
      "outputs": [
        {
          "output_type": "execute_result",
          "data": {
            "text/plain": [
              "['I',\n",
              " 'can',\n",
              " 'only',\n",
              " 'comment',\n",
              " 'on',\n",
              " 'the',\n",
              " 'vermicelli',\n",
              " 'bowls',\n",
              " 'because',\n",
              " 'I',\n",
              " 'have',\n",
              " 'never',\n",
              " 'had',\n",
              " 'the',\n",
              " 'Pho',\n",
              " 'The',\n",
              " 'vermicelli',\n",
              " 'are',\n",
              " 'a',\n",
              " 'decent',\n",
              " 'size',\n",
              " 'and',\n",
              " 'a',\n",
              " 'fair',\n",
              " 'price',\n",
              " 'Conveniently',\n",
              " 'located',\n",
              " 'if',\n",
              " 'you',\n",
              " 'live',\n",
              " 'in',\n",
              " 'the',\n",
              " 'Alberta',\n",
              " 'Ave',\n",
              " 'neighbourhood',\n",
              " 'my',\n",
              " 'orders',\n",
              " 'have',\n",
              " 'always',\n",
              " 'been',\n",
              " 'ready',\n",
              " 'in',\n",
              " '15',\n",
              " 'minutes',\n",
              " 'even',\n",
              " 'on',\n",
              " 'a',\n",
              " 'Friday',\n",
              " 'night']"
            ]
          },
          "metadata": {},
          "execution_count": 17
        }
      ]
    },
    {
      "cell_type": "code",
      "source": [
        "# Tokenization Using Keras\n",
        "from keras.preprocessing.text import text_to_word_sequence\n",
        "\n",
        "result = text_to_word_sequence(text)\n",
        "result"
      ],
      "metadata": {
        "colab": {
          "base_uri": "https://localhost:8080/"
        },
        "id": "xziYCOcQw2TE",
        "outputId": "65ed21c2-8986-404e-b540-985ad139c3ec"
      },
      "execution_count": 18,
      "outputs": [
        {
          "output_type": "execute_result",
          "data": {
            "text/plain": [
              "['i',\n",
              " 'can',\n",
              " 'only',\n",
              " 'comment',\n",
              " 'on',\n",
              " 'the',\n",
              " 'vermicelli',\n",
              " 'bowls',\n",
              " 'because',\n",
              " 'i',\n",
              " 'have',\n",
              " 'never',\n",
              " 'had',\n",
              " 'the',\n",
              " 'pho',\n",
              " 'the',\n",
              " 'vermicelli',\n",
              " 'are',\n",
              " 'a',\n",
              " 'decent',\n",
              " 'size',\n",
              " 'and',\n",
              " 'a',\n",
              " 'fair',\n",
              " 'price',\n",
              " 'conveniently',\n",
              " 'located',\n",
              " 'if',\n",
              " 'you',\n",
              " 'live',\n",
              " 'in',\n",
              " 'the',\n",
              " 'alberta',\n",
              " 'ave',\n",
              " 'neighbourhood',\n",
              " 'my',\n",
              " 'orders',\n",
              " 'have',\n",
              " 'always',\n",
              " 'been',\n",
              " 'ready',\n",
              " 'in',\n",
              " '15',\n",
              " 'minutes',\n",
              " 'even',\n",
              " 'on',\n",
              " 'a',\n",
              " 'friday',\n",
              " 'night']"
            ]
          },
          "metadata": {},
          "execution_count": 18
        }
      ]
    },
    {
      "cell_type": "code",
      "source": [
        "# Tokenization Using Gensim\n",
        "from gensim.utils import tokenize\n",
        "\n",
        "list(tokenize(text))"
      ],
      "metadata": {
        "colab": {
          "base_uri": "https://localhost:8080/"
        },
        "id": "sra_nylAxDpv",
        "outputId": "d18464ec-b885-4827-e7c7-5416c54e0ef1"
      },
      "execution_count": 19,
      "outputs": [
        {
          "output_type": "execute_result",
          "data": {
            "text/plain": [
              "['I',\n",
              " 'can',\n",
              " 'only',\n",
              " 'comment',\n",
              " 'on',\n",
              " 'the',\n",
              " 'vermicelli',\n",
              " 'bowls',\n",
              " 'because',\n",
              " 'I',\n",
              " 'have',\n",
              " 'never',\n",
              " 'had',\n",
              " 'the',\n",
              " 'Pho',\n",
              " 'The',\n",
              " 'vermicelli',\n",
              " 'are',\n",
              " 'a',\n",
              " 'decent',\n",
              " 'size',\n",
              " 'and',\n",
              " 'a',\n",
              " 'fair',\n",
              " 'price',\n",
              " 'Conveniently',\n",
              " 'located',\n",
              " 'if',\n",
              " 'you',\n",
              " 'live',\n",
              " 'in',\n",
              " 'the',\n",
              " 'Alberta',\n",
              " 'Ave',\n",
              " 'neighbourhood',\n",
              " 'my',\n",
              " 'orders',\n",
              " 'have',\n",
              " 'always',\n",
              " 'been',\n",
              " 'ready',\n",
              " 'in',\n",
              " 'minutes',\n",
              " 'even',\n",
              " 'on',\n",
              " 'a',\n",
              " 'Friday',\n",
              " 'night']"
            ]
          },
          "metadata": {},
          "execution_count": 19
        }
      ]
    },
    {
      "cell_type": "code",
      "source": [
        "# Tokenization Using PunktSentenceTokenizer\n",
        "from nltk.tokenize import PunktSentenceTokenizer\n",
        "nltk.download('state_union')\n",
        "from nltk.corpus import state_union\n",
        "train_text = state_union.raw(\"2005-GWBush.txt\")\n",
        "custom_sent_tokenizer = PunktSentenceTokenizer(train_text)\n",
        "tokenized = custom_sent_tokenizer.tokenize(text)\n",
        "tokenized"
      ],
      "metadata": {
        "colab": {
          "base_uri": "https://localhost:8080/"
        },
        "id": "gRsbVipcxPR5",
        "outputId": "4a553fba-db37-4177-b28e-aaa0492e4239"
      },
      "execution_count": 23,
      "outputs": [
        {
          "output_type": "stream",
          "name": "stderr",
          "text": [
            "[nltk_data] Downloading package state_union to /root/nltk_data...\n",
            "[nltk_data]   Package state_union is already up-to-date!\n"
          ]
        },
        {
          "output_type": "execute_result",
          "data": {
            "text/plain": [
              "['I can only comment on the vermicelli bowls because I have never had the Pho.',\n",
              " 'The vermicelli are a decent size and a fair price.',\n",
              " 'Conveniently located if you live in the Alberta Ave neighbourhood, my orders have always been ready in 15 minutes - even on a Friday night.']"
            ]
          },
          "metadata": {},
          "execution_count": 23
        }
      ]
    },
    {
      "cell_type": "code",
      "source": [
        "# RegexpTokenizer\n",
        "from nltk.tokenize import RegexpTokenizer\n",
        "\n",
        "tokenizer = RegexpTokenizer(r'\\w+')\n",
        "tokens = tokenizer.tokenize(text)\n",
        "print(\"Regexp Tokenization:\", tokens)"
      ],
      "metadata": {
        "colab": {
          "base_uri": "https://localhost:8080/"
        },
        "id": "cCET5e4jy6jD",
        "outputId": "1192f120-1fd7-4868-d73a-1d7c21e8539e"
      },
      "execution_count": 28,
      "outputs": [
        {
          "output_type": "stream",
          "name": "stdout",
          "text": [
            "Regexp Tokenization: ['I', 'can', 'only', 'comment', 'on', 'the', 'vermicelli', 'bowls', 'because', 'I', 'have', 'never', 'had', 'the', 'Pho', 'The', 'vermicelli', 'are', 'a', 'decent', 'size', 'and', 'a', 'fair', 'price', 'Conveniently', 'located', 'if', 'you', 'live', 'in', 'the', 'Alberta', 'Ave', 'neighbourhood', 'my', 'orders', 'have', 'always', 'been', 'ready', 'in', '15', 'minutes', 'even', 'on', 'a', 'Friday', 'night']\n"
          ]
        }
      ]
    }
  ]
}